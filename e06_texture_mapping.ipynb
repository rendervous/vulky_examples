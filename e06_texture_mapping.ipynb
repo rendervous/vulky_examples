{
 "cells": [
  {
   "cell_type": "markdown",
   "source": [
    "# Texture Mapping\n",
    "\n",
    "__textures, slices, samplers, combined descriptors__"
   ],
   "metadata": {
    "collapsed": false
   },
   "id": "16a610d672fc55b6"
  },
  {
   "cell_type": "code",
   "execution_count": null,
   "outputs": [],
   "source": [
    "import vulky as vk\n",
    "import torch\n",
    "vk.create_device(debug=True)\n",
    "SCREEN_WIDTH = 2048\n",
    "SCREEN_HEIGHT = 2048\n",
    "render_target = vk.render_target(\n",
    "    image_format=vk.Format.VEC4,\n",
    "    width=SCREEN_WIDTH,\n",
    "    height=SCREEN_HEIGHT\n",
    ")\n",
    "depth_buffer = vk.depth_stencil(\n",
    "    width=SCREEN_WIDTH,\n",
    "    height=SCREEN_HEIGHT\n",
    ")\n",
    "transforms = vk.object_buffer(\n",
    "    layout=vk.Layout.from_structure(\n",
    "        vk.LayoutAlignment.STD430,\n",
    "        projection=vk.mat4,\n",
    "        view=vk.mat4\n",
    "    )\n",
    ")\n",
    "with transforms as b:\n",
    "    b.projection = vk.mat4.perspective()\n",
    "    b.view = vk.mat4.look_at(vk.vec3(0.0, 0.5, -2.0), vk.vec3(0.0, 0.0, 0.0), vk.vec3(0.0, 1.0, 0.0))"
   ],
   "metadata": {
    "collapsed": false
   },
   "id": "a6bef507cfb1ef5e"
  },
  {
   "cell_type": "code",
   "execution_count": null,
   "outputs": [],
   "source": [
    "texture_data = torch.zeros(8, 8, 4)\n",
    "texture_data[..., 3] = 1.0\n",
    "texture_data[::2, ::2] = 1.0\n",
    "texture_data[1::2, 1::2] = 1.0\n",
    "texture_data = torch.nn.functional.interpolate(texture_data.unsqueeze(0).permute(0, 3, 1, 2), scale_factor=32, mode='nearest').permute(0, 2, 3, 1).squeeze(0)"
   ],
   "metadata": {
    "collapsed": false
   },
   "id": "b57cd03ba1bf222b"
  },
  {
   "cell_type": "code",
   "execution_count": null,
   "outputs": [],
   "source": [
    "import matplotlib.pyplot as plt\n",
    "plt.imshow(texture_data)\n",
    "plt.show()"
   ],
   "metadata": {
    "collapsed": false
   },
   "id": "3de15049badf08cd"
  },
  {
   "cell_type": "code",
   "execution_count": null,
   "outputs": [],
   "source": [
    "texture = vk.image_2D(vk.Format.VEC4,\n",
    "                      width=256, height=256)\n",
    "texture.subresource(0).load(texture_data)"
   ],
   "metadata": {
    "collapsed": false
   },
   "id": "f4ee11066ffb6d1"
  },
  {
   "cell_type": "code",
   "execution_count": null,
   "outputs": [],
   "source": [
    "with vk.graphics_manager() as man:\n",
    "    for i in range(1, texture.get_mip_count()):\n",
    "        man.blit_image(texture.subresource(i-1,0), texture.subresource(i,0), filter=vk.Filter.LINEAR)"
   ],
   "metadata": {
    "collapsed": false
   },
   "id": "ba80643737a608e5"
  },
  {
   "cell_type": "code",
   "execution_count": null,
   "outputs": [],
   "source": [
    "vertex_shader_code = \"\"\"\n",
    "#version 450\n",
    "#extension GL_EXT_scalar_block_layout: enable\n",
    "\n",
    "layout(location = 0) out vec2 out_coordinates;\n",
    "\n",
    "layout(std430, set=0, binding=0) uniform Globals{\n",
    "    mat4 Proj;\n",
    "    mat4 View;\n",
    "};\n",
    "\n",
    "vec2[] quad = {\n",
    "    vec2(-1.0, -1.0), \n",
    "    vec2(1.0, -1.0),\n",
    "    vec2(-1.0, 1.0),\n",
    "    vec2(-1.0, 1.0),\n",
    "    vec2(1.0, -1.0),\n",
    "    vec2(1.0, 1.0)\n",
    "};\n",
    "\n",
    "void main()\n",
    "{\n",
    "    vec2 q = quad[gl_VertexIndex];\n",
    "    vec4 P = vec4(q.x * 1000, 0, q.y * 1000, 1.0);\n",
    "    gl_Position = Proj * (View * P);\n",
    "    out_coordinates = P.xz;\n",
    "}\n",
    "\"\"\"\n",
    "fragment_shader_code = \"\"\"\n",
    "#version 450\n",
    "layout(location = 0) in vec2 in_coordinates;\n",
    "layout(location = 0) out vec4 out_color;\n",
    "\n",
    "layout(set=0, binding=1) uniform sampler2D image;\n",
    "\n",
    "void main()\n",
    "{\n",
    "    out_color = texture(image, in_coordinates);\n",
    "}\n",
    "\"\"\""
   ],
   "metadata": {
    "collapsed": false
   },
   "id": "c040829d051d606b"
  },
  {
   "cell_type": "code",
   "execution_count": null,
   "outputs": [],
   "source": [
    "pipeline = vk.pipeline_graphics()\n",
    "pipeline.attach(0, render_target=vk.Format.VEC4)\n",
    "pipeline.attach(1, depth_buffer=vk.Format.DEPTH_STENCIL)\n",
    "pipeline.layout(set=0, binding=0, transforms=vk.DescriptorType.UNIFORM_BUFFER)\n",
    "pipeline.layout(set=0, binding=1, image=vk.DescriptorType.COMBINED_IMAGE)\n",
    "with pipeline.shader_stages(vk.ShaderStage.VERTEX):\n",
    "    pipeline.load_shader_from_source(vertex_shader_code)\n",
    "with pipeline.shader_stages(vk.ShaderStage.FRAGMENT):\n",
    "    pipeline.load_shader_from_source(fragment_shader_code)\n",
    "pipeline.close()"
   ],
   "metadata": {
    "collapsed": false
   },
   "id": "7d1f1fda6b918228"
  },
  {
   "cell_type": "code",
   "execution_count": null,
   "outputs": [],
   "source": [
    "framebuffer = pipeline.create_framebuffer(\n",
    "    width=SCREEN_WIDTH,\n",
    "    height=SCREEN_HEIGHT,\n",
    "    render_target=render_target,\n",
    "    depth_buffer=depth_buffer\n",
    ")"
   ],
   "metadata": {
    "collapsed": false
   },
   "id": "f0d7c58a180878e5"
  },
  {
   "cell_type": "code",
   "execution_count": null,
   "outputs": [],
   "source": [
    "sampler = vk.sampler(mipmap_mode=vk.MipMapMode.NONE)"
   ],
   "metadata": {
    "collapsed": false
   },
   "id": "380db9266eba4ef7"
  },
  {
   "cell_type": "code",
   "execution_count": null,
   "outputs": [],
   "source": [
    "global_bindings = pipeline.create_descriptor_set_collection(set=0, count=1)\n",
    "global_bindings[0].update(\n",
    "    transforms=transforms,\n",
    "    image=(texture, sampler)\n",
    ")"
   ],
   "metadata": {
    "collapsed": false
   },
   "id": "e0d8f8ff2cbe9b7c"
  },
  {
   "cell_type": "code",
   "execution_count": null,
   "outputs": [],
   "source": [
    "man = vk.graphics_manager()\n",
    "man.use(render_target, vk.ImageUsage.RENDER_TARGET)\n",
    "man.image_barrier(render_target, vk.ImageUsage.ANY)\n",
    "man.clear_color(render_target, (0.0, 0.0, 0.4, 1.0))\n",
    "man.image_barrier(render_target, vk.ImageUsage.RENDER_TARGET)\n",
    "\n",
    "man.clear_depth_stencil(depth_buffer, 1.0, 0)\n",
    "man.set_pipeline(pipeline)\n",
    "man.set_framebuffer(framebuffer)\n",
    "man.bind(global_bindings[0])\n",
    "man.dispatch_primitives(vertices=6)\n",
    "man.freeze()"
   ],
   "metadata": {
    "collapsed": false
   },
   "id": "fde07e8bb3f16832"
  },
  {
   "cell_type": "code",
   "execution_count": null,
   "outputs": [],
   "source": [
    "vk.submit(man)"
   ],
   "metadata": {
    "collapsed": false
   },
   "id": "c1f2a39f50d49a5d"
  },
  {
   "cell_type": "code",
   "execution_count": null,
   "outputs": [],
   "source": [
    "staging = vk.tensor(render_target.height, render_target.width, 4) \n",
    "with vk.graphics_manager() as b:\n",
    "    b.use(render_target, vk.ImageUsage.RENDER_TARGET)\n",
    "    b.image_barrier(render_target, vk.ImageUsage.ANY)\n",
    "render_target.save(staging)\n",
    "\n",
    "plt.imshow(staging.cpu())\n",
    "plt.gca().axis('off')\n",
    "plt.tight_layout(pad=0.0)\n",
    "plt.show()"
   ],
   "metadata": {
    "collapsed": false
   },
   "id": "cd5229afb78a0a7e"
  },
  {
   "cell_type": "code",
   "execution_count": null,
   "outputs": [],
   "source": [
    "sampler = vk.sampler_linear(enable_anisotropy=True, max_anisotropy=16)\n",
    "global_bindings[0].update(\n",
    "    image=(texture, sampler)\n",
    ")"
   ],
   "metadata": {
    "collapsed": false
   },
   "id": "817bf5bad40ff7fa"
  },
  {
   "cell_type": "code",
   "execution_count": null,
   "outputs": [],
   "source": [
    "with vk.graphics_manager() as b:\n",
    "    b.use(render_target, vk.ImageUsage.ANY)\n",
    "    b.image_barrier(render_target, vk.ImageUsage.RENDER_TARGET)\n",
    "vk.submit(man)"
   ],
   "metadata": {
    "collapsed": false
   },
   "id": "1b1944494a367a90"
  },
  {
   "cell_type": "code",
   "execution_count": null,
   "outputs": [],
   "source": [
    "with vk.graphics_manager() as b:\n",
    "    b.use(render_target, vk.ImageUsage.RENDER_TARGET)\n",
    "    b.image_barrier(render_target, vk.ImageUsage.ANY)\n",
    "render_target.save(staging)\n",
    "import matplotlib.pyplot as plt\n",
    "plt.imshow(staging.cpu())\n",
    "plt.gca().axis('off')\n",
    "plt.tight_layout(pad=0.0)\n",
    "plt.savefig('teaser6.jpg')\n",
    "plt.show()"
   ],
   "metadata": {
    "collapsed": false
   },
   "id": "e79b9f13eb02971e"
  },
  {
   "cell_type": "code",
   "execution_count": null,
   "outputs": [],
   "source": [
    "del staging\n",
    "\n",
    "vk.quit()"
   ],
   "metadata": {
    "collapsed": false
   },
   "id": "9fefd31050d1ef60"
  }
 ],
 "metadata": {
  "kernelspec": {
   "display_name": "Python 3",
   "language": "python",
   "name": "python3"
  },
  "language_info": {
   "codemirror_mode": {
    "name": "ipython",
    "version": 2
   },
   "file_extension": ".py",
   "mimetype": "text/x-python",
   "name": "python",
   "nbconvert_exporter": "python",
   "pygments_lexer": "ipython2",
   "version": "2.7.6"
  }
 },
 "nbformat": 4,
 "nbformat_minor": 5
}
