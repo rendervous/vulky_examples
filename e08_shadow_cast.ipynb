{
 "cells": [
  {
   "cell_type": "markdown",
   "source": [
    "# Shadow cast\n",
    "\n",
    "__ray tracing, rt programs__"
   ],
   "metadata": {
    "collapsed": false
   },
   "id": "1f477e86176d70e1"
  },
  {
   "cell_type": "code",
   "execution_count": 1,
   "outputs": [
    {
     "name": "stdout",
     "output_type": "stream",
     "text": [
      "[INFO] Vulkan Instance created...\n",
      "[INFO] Debug instance created...\n",
      "[INFO] Available devices: 1\n",
      "[INFO] Selected device: NVIDIA GeForce RTX 2080 Ti\n",
      "\n",
      "[INFO] Selected device index: 0\n",
      "\n",
      "[INFO] 5 available queue family\n",
      "[PRINT] Inserted device layer \"VK_LAYER_KHRONOS_validation\" (C:\\VulkanSDK\\1.3.275.0\\Bin\\.\\VkLayer_khronos_validation.dll)\n",
      "[PRINT] Inserted device layer \"VK_LAYER_OBS_HOOK\" (C:\\ProgramData\\obs-studio-hook\\.\\graphics-hook64.dll)\n",
      "[PRINT] Inserted device layer \"VK_LAYER_NV_optimus\" (C:\\WINDOWS\\System32\\DriverStore\\FileRepository\\nv_dispi.inf_amd64_cc569e59ca39c5fe\\.\\nvoglv64.dll)\n",
      "[PRINT] vkCreateDevice layer callstack setup to:\n",
      "[PRINT]    <Application>\n",
      "[PRINT]      ||\n",
      "[PRINT]    <Loader>\n",
      "[PRINT]      ||\n",
      "[PRINT]    VK_LAYER_NV_optimus\n",
      "[PRINT]            Type: Implicit\n",
      "[PRINT]                Disable Env Var:  DISABLE_LAYER_NV_OPTIMUS_1\n",
      "[PRINT]            Manifest: C:\\WINDOWS\\System32\\DriverStore\\FileRepository\\nv_dispi.inf_amd64_cc569e59ca39c5fe\\nv-vk64.json\n",
      "[PRINT]            Library:  C:\\WINDOWS\\System32\\DriverStore\\FileRepository\\nv_dispi.inf_amd64_cc569e59ca39c5fe\\.\\nvoglv64.dll\n",
      "[PRINT]      ||\n",
      "[PRINT]    VK_LAYER_OBS_HOOK\n",
      "[PRINT]            Type: Implicit\n",
      "[PRINT]                Disable Env Var:  DISABLE_VULKAN_OBS_CAPTURE\n",
      "[PRINT]            Manifest: C:\\ProgramData\\obs-studio-hook\\obs-vulkan64.json\n",
      "[PRINT]            Library:  C:\\ProgramData\\obs-studio-hook\\.\\graphics-hook64.dll\n",
      "[PRINT]      ||\n",
      "[PRINT]    VK_LAYER_KHRONOS_validation\n",
      "[PRINT]            Type: Explicit\n",
      "[PRINT]            Manifest: C:\\VulkanSDK\\1.3.275.0\\Bin\\VkLayer_khronos_validation.json\n",
      "[PRINT]            Library:  C:\\VulkanSDK\\1.3.275.0\\Bin\\.\\VkLayer_khronos_validation.dll\n",
      "[PRINT]      ||\n",
      "[PRINT]    <Device>\n",
      "[PRINT]        Using \"NVIDIA GeForce RTX 2080 Ti\" with driver: \"C:\\WINDOWS\\System32\\DriverStore\\FileRepository\\nv_dispi.inf_amd64_cc569e59ca39c5fe\\.\\nvoglv64.dll\"\n",
      "[INFO] Device and queues created...\n",
      "[INFO] Creating page with 1024MB on CPU\n",
      "[INFO] Creating page with 1024MB on GPU\n"
     ]
    }
   ],
   "source": [
    "import vulky as vk\n",
    "\n",
    "vk.create_device(debug=True)\n",
    "\n",
    "SCREEN_WIDTH = 2048\n",
    "SCREEN_HEIGHT = 2048\n",
    "\n",
    "render_target = vk.image_2D(\n",
    "    image_format=vk.Format.VEC4,\n",
    "    width=SCREEN_WIDTH,\n",
    "    height=SCREEN_HEIGHT,\n",
    "    mips=1,  # Important to make the image single resource\n",
    "    usage=vk.ImageUsage.STORAGE,\n",
    "    memory=vk.MemoryLocation.GPU\n",
    ")\n",
    "\n",
    "data = vk.load_obj('./data/bunny.obj')\n",
    "vertices_data, indices_data = vk.create_mesh(data, mode='po')\n",
    "\n",
    "triangles_vb = vk.structured_buffer(\n",
    "    count=len(vertices_data), \n",
    "    element_description=dict(\n",
    "        P=vk.vec3,\n",
    "        N=vk.vec3,\n",
    "        C=vk.vec2\n",
    "    ),\n",
    "    usage=vk.BufferUsage.RAYTRACING_RESOURCE    \n",
    ").load(vertices_data)\n",
    "triangles_ib = vk.structured_buffer(\n",
    "    count=indices_data.numel(),\n",
    "    element_description=int,\n",
    "    usage=vk.BufferUsage.RAYTRACING_RESOURCE\n",
    ").load(indices_data)\n",
    "\n",
    "triangles = vk.triangle_collection()\n",
    "triangles.append(triangles_vb, triangles_ib)\n",
    "geometry_ads = vk.ads_model(triangles)\n",
    "\n",
    "instances = vk.instance_buffer(1)\n",
    "with instances.map(mode='inout') as m:\n",
    "    m.accelerationStructureReference[0] = geometry_ads.handle\n",
    "scene_ads = vk.ads_scene(instances)    \n",
    "\n",
    "scratch_buffer = vk.scratch_buffer(geometry_ads, scene_ads)\n",
    "    \n",
    "with vk.raytracing_manager() as man:\n",
    "    man.build_ads(geometry_ads, scratch_buffer)\n",
    "    man.build_ads(scene_ads, scratch_buffer)\n",
    "    \n",
    "global_transform = vk.object_buffer(\n",
    "    vk.Layout.from_structure(\n",
    "        vk.LayoutAlignment.SCALAR,\n",
    "        Proj=vk.mat4,\n",
    "        View=vk.mat4\n",
    "    ),\n",
    "    memory=vk.MemoryLocation.GPU\n",
    ")\n",
    "\n",
    "with global_transform as b:\n",
    "    b.Proj = vk.mat4.perspective()\n",
    "    b.View = vk.mat4.look_at(vk.vec3(0., 1., 4.), vk.vec3(0., 0.5, 0.), vk.vec3(0.,1., 0.))"
   ],
   "metadata": {
    "collapsed": false,
    "ExecuteTime": {
     "end_time": "2024-07-23T15:32:25.022223700Z",
     "start_time": "2024-07-23T15:32:20.628593Z"
    }
   },
   "id": "f751816a9fda7e8d"
  },
  {
   "cell_type": "code",
   "execution_count": 2,
   "outputs": [],
   "source": [
    "ray_generation_shader_code = \"\"\"\n",
    "#version 460\n",
    "#extension GL_EXT_ray_tracing : require\n",
    "\n",
    "layout(set = 0, binding = 0) uniform accelerationStructureEXT Scene;\n",
    "layout(set = 0, binding = 1) uniform Globals {\n",
    "    mat4 proj;\n",
    "    mat4 view;\n",
    "} globals;\n",
    "layout(set = 0, binding = 2, rgba32f) uniform image2D ResultImage;\n",
    "\n",
    "layout(location = 0) rayPayloadEXT vec4 ResultColor;\n",
    "\n",
    "void main() {\n",
    "    vec2 uv = (gl_LaunchIDEXT.xy + vec2(0.5)) / vec2(gl_LaunchSizeEXT.xy);\n",
    "    vec4 P = vec4(uv.x * 2 - 1.0, uv.y * 2 - 1.0, 0.0, 1.0);\n",
    "    vec4 T = vec4(uv.x * 2 - 1.0, uv.y * 2 - 1.0, 1.0, 1.0);\n",
    "    mat4 inv_transform = inverse(globals.proj * globals.view); \n",
    "    P = inv_transform * P;\n",
    "    T = inv_transform * T;\n",
    "    vec3 o = P.xyz / P.w;\n",
    "    vec3 d = normalize(T.xyz/T.w - o);\n",
    "    traceRayEXT(Scene, gl_RayFlagsNoneEXT, 0xFF, 0, 0, 0, o, 0.001, d, 1000.0f, 0);\n",
    "    imageStore(ResultImage, ivec2(gl_LaunchIDEXT.xy), ResultColor);\n",
    "}  \n",
    "\"\"\"\n",
    "closest_hit_shader_code = \"\"\"\n",
    "#version 460\n",
    "#extension GL_EXT_ray_tracing : require\n",
    "#extension GL_EXT_scalar_block_layout : require\n",
    "\n",
    "layout(set = 0, binding = 0) uniform accelerationStructureEXT Scene;\n",
    "\n",
    "layout(location = 0) rayPayloadInEXT vec4 ResultColor;\n",
    "layout(location = 1) rayPayloadInEXT float shadowCast;\n",
    "\n",
    "hitAttributeEXT vec2 HitAttribs;\n",
    "\n",
    "struct Vertex {\n",
    "    vec3 P;\n",
    "    vec3 N;\n",
    "    vec2 C;\n",
    "};\n",
    "\n",
    "layout(scalar, set=0, binding = 3) readonly buffer Vertices {\n",
    "    Vertex data[];\n",
    "} vertices;\n",
    "\n",
    "layout(scalar, set=0, binding = 4) readonly buffer Indices {\n",
    "    int data[];\n",
    "} indices;\n",
    "\n",
    "void main() {\n",
    "    int triangleIndex = gl_PrimitiveID;\n",
    "    Vertex v0 = vertices.data[indices.data[triangleIndex*3 + 0]];\n",
    "    Vertex v1 = vertices.data[indices.data[triangleIndex*3 + 1]];\n",
    "    Vertex v2 = vertices.data[indices.data[triangleIndex*3 + 2]];\n",
    "    vec3 coord = vec3(1 - HitAttribs.x - HitAttribs.y, HitAttribs.x, HitAttribs.y);\n",
    "    vec3 P = v0.P * coord.x + v1.P * coord.y + v2.P * coord.z;\n",
    "    vec3 N =  normalize(v0.N * coord.x + v1.N * coord.y + v2.N * coord.z);\n",
    "    //ResultColor = vec4(N.x, N.y, N.z, 1);\n",
    "    vec3 L = normalize(vec3(2,5,1));\n",
    "    traceRayEXT(Scene, \n",
    "        gl_RayFlagsTerminateOnFirstHitEXT, // cause any cast shadows \n",
    "        0xFF, \n",
    "        1,  // st offset\n",
    "        0,  // st stride\n",
    "        1,  // st miss idx\n",
    "        P + N * 0.0001, \n",
    "        0.001, \n",
    "        L, \n",
    "        1000.0f, \n",
    "        1);\n",
    "    vec3 V = -gl_WorldRayDirectionEXT;\n",
    "    vec3 light = vec3(3,3,0.3)/3.14159*max(0, max(0.1 * dot(N, V), shadowCast * dot(N, L)));\n",
    "    ResultColor = vec4(light.x, light.y, light.z, 1);\n",
    "}\n",
    "\"\"\"\n",
    "miss_shader_code = \"\"\"\n",
    "#version 460\n",
    "#extension GL_EXT_ray_tracing : require\n",
    "\n",
    "layout(location = 0) rayPayloadInEXT vec4 ResultColor;\n",
    "\n",
    "void main() {\n",
    "    ResultColor = vec4(0.1, 0.1, 0.7, 1.0);\n",
    "}  \n",
    "\"\"\"\n",
    "\n",
    "shadow_miss_code = \"\"\"\n",
    "#version 460\n",
    "#extension GL_EXT_ray_tracing : require\n",
    "\n",
    "layout(location = 1) rayPayloadInEXT float shadowCast;\n",
    "\n",
    "void main() {\n",
    "    shadowCast = 1.0;\n",
    "}  \n",
    "\"\"\"\n",
    "\n",
    "shadow_any_hit_code = \"\"\"\n",
    "#version 460\n",
    "#extension GL_EXT_ray_tracing : require\n",
    "\n",
    "layout(location = 1) rayPayloadInEXT float shadowCast;\n",
    "\n",
    "void main(){\n",
    "    shadowCast = 0.0;\n",
    "}\n",
    "\"\"\""
   ],
   "metadata": {
    "collapsed": false,
    "ExecuteTime": {
     "end_time": "2024-07-23T15:32:25.029364700Z",
     "start_time": "2024-07-23T15:32:25.025225900Z"
    }
   },
   "id": "7824b7cd9af125f6"
  },
  {
   "cell_type": "code",
   "execution_count": 3,
   "outputs": [],
   "source": [
    "pipeline = vk.pipeline_raytracing()\n",
    "pipeline.layout(set=0, binding=0, scene=vk.DescriptorType.SCENE_ADS)\n",
    "pipeline.layout(set=0, binding=1, global_transform=vk.DescriptorType.UNIFORM_BUFFER)\n",
    "pipeline.layout(set=0, binding=2, output_image=vk.DescriptorType.STORAGE_IMAGE)\n",
    "pipeline.layout(set=0, binding=3, vertices=vk.DescriptorType.STORAGE_BUFFER)\n",
    "pipeline.layout(set=0, binding=4, indices=vk.DescriptorType.STORAGE_BUFFER)"
   ],
   "metadata": {
    "collapsed": false,
    "ExecuteTime": {
     "end_time": "2024-07-23T15:32:25.048477700Z",
     "start_time": "2024-07-23T15:32:25.029364700Z"
    }
   },
   "id": "12d41ce3418976f1"
  },
  {
   "cell_type": "code",
   "execution_count": 4,
   "outputs": [],
   "source": [
    "pipeline.stack_size(2)  # max expected nested trace calls"
   ],
   "metadata": {
    "collapsed": false,
    "ExecuteTime": {
     "end_time": "2024-07-23T15:32:25.062219400Z",
     "start_time": "2024-07-23T15:32:25.044477400Z"
    }
   },
   "id": "d9ca2ad599f30daa"
  },
  {
   "cell_type": "code",
   "execution_count": 5,
   "outputs": [
    {
     "name": "stdout",
     "output_type": "stream",
     "text": [
      "[INFO] Compiled code for rgen\n",
      "[INFO] Compiled code for rmiss\n",
      "[INFO] Compiled code for rmiss\n",
      "[INFO] Compiled code for rchit\n",
      "[INFO] Compiled code for rahit\n"
     ]
    }
   ],
   "source": [
    "with pipeline.shader_stages(vk.ShaderStage.RT_GENERATION):\n",
    "    gen_shader = pipeline.load_shader_from_source(ray_generation_shader_code)\n",
    "with pipeline.shader_stages(vk.ShaderStage.RT_MISS):\n",
    "    miss_shader = pipeline.load_shader_from_source(miss_shader_code)\n",
    "    shadow_miss_shader = pipeline.load_shader_from_source(shadow_miss_code)\n",
    "with pipeline.shader_stages(vk.ShaderStage.RT_CLOSEST_HIT):\n",
    "    closest_hit_shader = pipeline.load_shader_from_source(closest_hit_shader_code)\n",
    "with pipeline.shader_stages(vk.ShaderStage.RT_ANY_HIT):\n",
    "    shadow_any_hit_shader = pipeline.load_shader_from_source(shadow_any_hit_code)\n",
    "gen_group = pipeline.create_rt_gen_group(gen_shader)\n",
    "hit_group = pipeline.create_rt_hit_group(closest_hit=closest_hit_shader)\n",
    "shadow_hit_group = pipeline.create_rt_hit_group(any_hit=shadow_any_hit_shader)\n",
    "miss_group = pipeline.create_rt_miss_group(miss_shader)\n",
    "shadow_miss_group = pipeline.create_rt_miss_group(shadow_miss_shader)\n",
    "pipeline.close()"
   ],
   "metadata": {
    "collapsed": false,
    "ExecuteTime": {
     "end_time": "2024-07-23T15:32:25.902170800Z",
     "start_time": "2024-07-23T15:32:25.064220500Z"
    }
   },
   "id": "c5a005ba249ec4d8"
  },
  {
   "cell_type": "code",
   "execution_count": 6,
   "outputs": [],
   "source": [
    "rt_program = pipeline.create_rt_program(1, 2, 2, 0)\n",
    "with rt_program:\n",
    "    rt_program.set_generation(0, gen_group)\n",
    "    rt_program.set_hit_group(0, hit_group)\n",
    "    rt_program.set_hit_group(1, shadow_hit_group)\n",
    "    rt_program.set_miss(0, miss_group)\n",
    "    rt_program.set_miss(1, shadow_miss_group)"
   ],
   "metadata": {
    "collapsed": false,
    "ExecuteTime": {
     "end_time": "2024-07-23T15:32:25.904177600Z",
     "start_time": "2024-07-23T15:32:25.900440400Z"
    }
   },
   "id": "6a98023bed550584"
  },
  {
   "cell_type": "code",
   "execution_count": 7,
   "outputs": [],
   "source": [
    "global_bindings = pipeline.create_descriptor_set_collection(set=0, count=1)\n",
    "global_bindings[0].update(\n",
    "    scene = scene_ads,\n",
    "    global_transform = global_transform,\n",
    "    output_image = render_target,\n",
    "    vertices = triangles_vb,\n",
    "    indices = triangles_ib\n",
    ")\n",
    "with vk.raytracing_manager() as man:\n",
    "    man.set_pipeline(pipeline)\n",
    "    man.bind(global_bindings[0])\n",
    "    man.dispatch_rays(rt_program, SCREEN_WIDTH, SCREEN_HEIGHT)"
   ],
   "metadata": {
    "collapsed": false,
    "ExecuteTime": {
     "end_time": "2024-07-23T15:32:25.933480500Z",
     "start_time": "2024-07-23T15:32:25.905176800Z"
    }
   },
   "id": "f0dd678f471e67c5"
  },
  {
   "cell_type": "code",
   "execution_count": 8,
   "outputs": [
    {
     "data": {
      "text/plain": "<Figure size 640x480 with 1 Axes>",
      "image/png": "[encoded data removed]"
     },
     "metadata": {},
     "output_type": "display_data"
    }
   ],
   "source": [
    "staging = vk.tensor(render_target.height, render_target.width, 4)\n",
    "render_target.save(staging)\n",
    "import matplotlib.pyplot as plt\n",
    "plt.imshow(staging.cpu() ** (1.0/2.2))\n",
    "plt.gca().axis('off')\n",
    "plt.gca().invert_yaxis()\n",
    "plt.tight_layout(pad=0.0)\n",
    "plt.show()"
   ],
   "metadata": {
    "collapsed": false,
    "ExecuteTime": {
     "end_time": "2024-07-23T15:32:26.877479600Z",
     "start_time": "2024-07-23T15:32:25.934480900Z"
    }
   },
   "id": "4b5bd3575c09c000"
  }
 ],
 "metadata": {
  "kernelspec": {
   "display_name": "Python 3",
   "language": "python",
   "name": "python3"
  },
  "language_info": {
   "codemirror_mode": {
    "name": "ipython",
    "version": 2
   },
   "file_extension": ".py",
   "mimetype": "text/x-python",
   "name": "python",
   "nbconvert_exporter": "python",
   "pygments_lexer": "ipython2",
   "version": "2.7.6"
  }
 },
 "nbformat": 4,
 "nbformat_minor": 5
}
