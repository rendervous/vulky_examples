{
 "cells": [
  {
   "cell_type": "markdown",
   "source": [
    "# OBJ Viewer\n",
    "\n",
    "__loading obj file, transforms, textures and shading__\n"
   ],
   "metadata": {
    "collapsed": false
   },
   "id": "328136ea2c2aac7"
  },
  {
   "cell_type": "code",
   "execution_count": 1,
   "outputs": [
    {
     "name": "stdout",
     "output_type": "stream",
     "text": [
      "[INFO] Initial available layers: ['VK_LAYER_NV_optimus', 'VK_LAYER_NV_nomad_release_public_2019_3_0', 'VK_LAYER_OBS_HOOK', 'VK_LAYER_NV_nomad_release_public_2021_5_1', 'VK_LAYER_NV_GPU_Trace_release_public_2021_5_1', 'VK_LAYER_LUNARG_api_dump', 'VK_LAYER_LUNARG_gfxreconstruct', 'VK_LAYER_KHRONOS_synchronization2', 'VK_LAYER_KHRONOS_validation', 'VK_LAYER_LUNARG_monitor', 'VK_LAYER_LUNARG_screenshot', 'VK_LAYER_KHRONOS_profiles', 'VK_LAYER_KHRONOS_shader_object']\n",
      "[INFO] Vulkan Instance created...\n",
      "[INFO] Debug instance created...\n",
      "[INFO] Supported features {'coop_mat': True, 'rt': 1, 'rq': True, 'atomic': 1}\n",
      "[INFO] Available devices: 1\n",
      "[INFO] Selected device: NVIDIA GeForce RTX 2080 Ti\n",
      "\n",
      "[INFO] Selected device index: 0\n",
      "\n",
      "[INFO] 5 available queue family\n",
      "[PRINT] Inserted device layer \"VK_LAYER_KHRONOS_validation\" (C:\\VulkanSDK\\1.3.275.0\\Bin\\.\\VkLayer_khronos_validation.dll)\n",
      "[PRINT] Inserted device layer \"VK_LAYER_OBS_HOOK\" (C:\\ProgramData\\obs-studio-hook\\.\\graphics-hook64.dll)\n",
      "[PRINT] Inserted device layer \"VK_LAYER_NV_optimus\" (C:\\WINDOWS\\System32\\DriverStore\\FileRepository\\nv_dispi.inf_amd64_cc569e59ca39c5fe\\.\\nvoglv64.dll)\n",
      "[PRINT] vkCreateDevice layer callstack setup to:\n",
      "[PRINT]    <Application>\n",
      "[PRINT]      ||\n",
      "[PRINT]    <Loader>\n",
      "[PRINT]      ||\n",
      "[PRINT]    VK_LAYER_NV_optimus\n",
      "[PRINT]            Type: Implicit\n",
      "[PRINT]                Disable Env Var:  DISABLE_LAYER_NV_OPTIMUS_1\n",
      "[PRINT]            Manifest: C:\\WINDOWS\\System32\\DriverStore\\FileRepository\\nv_dispi.inf_amd64_cc569e59ca39c5fe\\nv-vk64.json\n",
      "[PRINT]            Library:  C:\\WINDOWS\\System32\\DriverStore\\FileRepository\\nv_dispi.inf_amd64_cc569e59ca39c5fe\\.\\nvoglv64.dll\n",
      "[PRINT]      ||\n",
      "[PRINT]    VK_LAYER_OBS_HOOK\n",
      "[PRINT]            Type: Implicit\n",
      "[PRINT]                Disable Env Var:  DISABLE_VULKAN_OBS_CAPTURE\n",
      "[PRINT]            Manifest: C:\\ProgramData\\obs-studio-hook\\obs-vulkan64.json\n",
      "[PRINT]            Library:  C:\\ProgramData\\obs-studio-hook\\.\\graphics-hook64.dll\n",
      "[PRINT]      ||\n",
      "[PRINT]    VK_LAYER_KHRONOS_validation\n",
      "[PRINT]            Type: Explicit\n",
      "[PRINT]            Manifest: C:\\VulkanSDK\\1.3.275.0\\Bin\\VkLayer_khronos_validation.json\n",
      "[PRINT]            Library:  C:\\VulkanSDK\\1.3.275.0\\Bin\\.\\VkLayer_khronos_validation.dll\n",
      "[PRINT]      ||\n",
      "[PRINT]    <Device>\n",
      "[PRINT]        Using \"NVIDIA GeForce RTX 2080 Ti\" with driver: \"C:\\WINDOWS\\System32\\DriverStore\\FileRepository\\nv_dispi.inf_amd64_cc569e59ca39c5fe\\.\\nvoglv64.dll\"\n",
      "[INFO] Device and queues created...\n",
      "[INFO] Creating page with 1024MB on CPU\n",
      "[INFO] Creating page with 1024MB on GPU\n"
     ]
    }
   ],
   "source": [
    "import vulky as vk\n",
    "import numpy as np\n",
    "\n",
    "vk.create_device(debug=True)\n",
    "SCREEN_WIDTH = 512\n",
    "SCREEN_HEIGHT = 512\n",
    "render_target = vk.render_target(\n",
    "    image_format=vk.Format.VEC4,\n",
    "    width=SCREEN_WIDTH,\n",
    "    height=SCREEN_HEIGHT\n",
    ")\n",
    "depth_buffer = vk.depth_stencil(\n",
    "    width=SCREEN_WIDTH,\n",
    "    height=SCREEN_HEIGHT\n",
    ")"
   ],
   "metadata": {
    "collapsed": false,
    "ExecuteTime": {
     "end_time": "2024-07-30T12:32:50.930149100Z",
     "start_time": "2024-07-30T12:32:46.652914200Z"
    }
   },
   "id": "6b0aac64eba93bfc"
  },
  {
   "cell_type": "code",
   "execution_count": 2,
   "outputs": [
    {
     "ename": "FileNotFoundError",
     "evalue": "[Errno 2] No such file or directory: './data/bunny.obj'",
     "output_type": "error",
     "traceback": [
      "\u001B[1;31m---------------------------------------------------------------------------\u001B[0m",
      "\u001B[1;31mFileNotFoundError\u001B[0m                         Traceback (most recent call last)",
      "Cell \u001B[1;32mIn[2], line 1\u001B[0m\n\u001B[1;32m----> 1\u001B[0m data \u001B[38;5;241m=\u001B[39m \u001B[43mvk\u001B[49m\u001B[38;5;241;43m.\u001B[39;49m\u001B[43mload_obj\u001B[49m\u001B[43m(\u001B[49m\u001B[38;5;124;43m'\u001B[39;49m\u001B[38;5;124;43m./data/bunny.obj\u001B[39;49m\u001B[38;5;124;43m'\u001B[39;49m\u001B[43m)\u001B[49m\n",
      "File \u001B[1;32mD:\\rendervous.project\\vulky\\_io.py:132\u001B[0m, in \u001B[0;36mload_obj\u001B[1;34m(path)\u001B[0m\n\u001B[0;32m    128\u001B[0m         add_triplets(t1, t2, t3)\n\u001B[0;32m    130\u001B[0m obj_directory \u001B[38;5;241m=\u001B[39m os\u001B[38;5;241m.\u001B[39mpath\u001B[38;5;241m.\u001B[39mdirname(path)\n\u001B[1;32m--> 132\u001B[0m \u001B[38;5;28;01mwith\u001B[39;00m \u001B[38;5;28;43mopen\u001B[39;49m\u001B[43m(\u001B[49m\u001B[43mpath\u001B[49m\u001B[43m,\u001B[49m\u001B[43m \u001B[49m\u001B[43mmode\u001B[49m\u001B[38;5;241;43m=\u001B[39;49m\u001B[38;5;124;43m'\u001B[39;49m\u001B[38;5;124;43mr\u001B[39;49m\u001B[38;5;124;43m'\u001B[39;49m\u001B[43m)\u001B[49m \u001B[38;5;28;01mas\u001B[39;00m f:\n\u001B[0;32m    133\u001B[0m     \u001B[38;5;28;01mwhile\u001B[39;00m \u001B[38;5;28;01mTrue\u001B[39;00m:\n\u001B[0;32m    134\u001B[0m         line \u001B[38;5;241m=\u001B[39m f\u001B[38;5;241m.\u001B[39mreadline()\n",
      "\u001B[1;31mFileNotFoundError\u001B[0m: [Errno 2] No such file or directory: './data/bunny.obj'"
     ]
    }
   ],
   "source": [
    "data = vk.load_obj('./vulky_data/bunny.obj')"
   ],
   "metadata": {
    "collapsed": false,
    "ExecuteTime": {
     "end_time": "2024-07-30T12:32:51.301708500Z",
     "start_time": "2024-07-30T12:32:50.932148900Z"
    }
   },
   "id": "5d90346b2720b5a2"
  },
  {
   "cell_type": "code",
   "execution_count": null,
   "outputs": [],
   "source": [
    "vertices, indices = vk.create_mesh(data, mode='po')"
   ],
   "metadata": {
    "collapsed": false,
    "ExecuteTime": {
     "end_time": "2024-07-30T12:32:51.308709600Z",
     "start_time": "2024-07-30T12:32:51.305710700Z"
    }
   },
   "id": "4fcec3a16e60de7e"
  },
  {
   "cell_type": "code",
   "execution_count": null,
   "outputs": [],
   "source": [
    "vertex_buffer = vk.vertex_buffer(len(vertices), element_description=dict(\n",
    "    P=vk.vec3,\n",
    "    N=vk.vec3,\n",
    "    C=vk.vec2\n",
    ")).load(vertices)\n",
    "\n",
    "number_of_indices = indices.numel()\n",
    "index_buffer = vk.index_buffer(number_of_indices).load(indices)"
   ],
   "metadata": {
    "collapsed": false,
    "ExecuteTime": {
     "start_time": "2024-07-30T12:32:51.307710900Z"
    }
   },
   "id": "bb6dfce3d7b6d6ff"
  },
  {
   "cell_type": "code",
   "execution_count": null,
   "outputs": [],
   "source": [
    "global_transform = vk.object_buffer(\n",
    "    vk.Layout.from_structure(\n",
    "        vk.LayoutAlignment.SCALAR,\n",
    "        Proj=vk.mat4,\n",
    "        View=vk.mat4\n",
    "    ),\n",
    "    memory=vk.MemoryLocation.GPU\n",
    ")\n",
    "\n",
    "with global_transform as b:\n",
    "    b.Proj = vk.mat4.perspective()\n",
    "    b.View = vk.mat4.look_at(vk.vec3(0., 1., -4.), vk.vec3(0., 0., 0.), vk.vec3(0.,1., 0.))\n",
    "\n",
    "local_transforms = [\n",
    "    vk.object_buffer(\n",
    "        vk.Layout.from_structure(\n",
    "            vk.LayoutAlignment.SCALAR,\n",
    "            World=vk.mat4\n",
    "        ),\n",
    "        memory=vk.MemoryLocation.GPU\n",
    "    ) for o in range(3)\n",
    "]\n",
    "\n",
    "for i, b in enumerate(local_transforms):\n",
    "    with b as t:\n",
    "        t.World = vk.mat4.trs(vk.vec3(np.cos(i * 6.28 / 3), -0.2, np.sin(i * 6.28 / 3)), vk.vec3(0., 1., 0.0), i*3.14159/3, vk.vec3.one())"
   ],
   "metadata": {
    "collapsed": false,
    "ExecuteTime": {
     "start_time": "2024-07-30T12:32:51.309710700Z"
    }
   },
   "id": "2af85fc4376054b2"
  },
  {
   "cell_type": "code",
   "execution_count": null,
   "outputs": [],
   "source": [
    "vertex_shader_code = \"\"\"\n",
    "#version 450\n",
    "#extension GL_EXT_scalar_block_layout: enable\n",
    "\n",
    "layout(location = 0) in vec3 in_position;\n",
    "layout(location = 1) in vec3 in_normals;\n",
    "layout(location = 2) in vec2 in_coordinates;\n",
    "layout(location = 0) out vec3 out_position;\n",
    "layout(location = 1) out vec3 out_normals;\n",
    "layout(location = 2) out vec2 out_coordinates;\n",
    "\n",
    "layout(std430, set=0, binding=0) uniform Globals{\n",
    "    mat4 Proj;\n",
    "    mat4 View;\n",
    "};\n",
    "\n",
    "layout(std430, set=1, binding=1) uniform Locals{\n",
    "    mat4 World;\n",
    "};\n",
    "\n",
    "void main()\n",
    "{\n",
    "    vec4 P = vec4(in_position, 1.0);\n",
    "    P = World * P;\n",
    "    out_position = P.xyz;\n",
    "    gl_Position = Proj * (View * P);\n",
    "    vec4 N = vec4(in_normals, 0.0);\n",
    "    out_normals = (World * N).xyz;\n",
    "    out_coordinates = in_coordinates;\n",
    "}\n",
    "\"\"\"\n",
    "\n",
    "fragment_shader_code = \"\"\"\n",
    "#version 450\n",
    "layout(location = 0) in vec3 in_position;\n",
    "layout(location = 1) in vec3 in_normals;\n",
    "layout(location = 2) in vec2 in_coordinates;\n",
    "layout(location = 0) out vec4 out_color;\n",
    "void main() {\n",
    "    // out_color = vec4(in_coordinates, 0, 1.0);\n",
    "    out_color = vec4(in_normals*0.5+0.5, 1.0);\n",
    "}\n",
    "\"\"\""
   ],
   "metadata": {
    "collapsed": false,
    "ExecuteTime": {
     "start_time": "2024-07-30T12:32:51.311709700Z"
    }
   },
   "id": "644317e58919b0b4"
  },
  {
   "cell_type": "code",
   "execution_count": null,
   "outputs": [],
   "source": [
    "pipeline = vk.pipeline_graphics()\n",
    "pipeline.attach(slot=0, render_target=vk.Format.VEC4)\n",
    "pipeline.attach(slot=1, depth_buffer=vk.Format.DEPTH_STENCIL)\n",
    "pipeline.layout(set=0, binding=0, global_transform=vk.DescriptorType.UNIFORM_BUFFER)\n",
    "pipeline.layout(set=1, binding=1, local_transform=vk.DescriptorType.UNIFORM_BUFFER)\n",
    "pipeline.vertex(location=0, in_position=vk.Format.VEC3)\n",
    "pipeline.vertex(location=1, in_normals=vk.Format.VEC3)\n",
    "pipeline.vertex(location=2, in_coordinates=vk.Format.VEC2)\n",
    "pipeline.vertex_binding(\n",
    "    binding=0,\n",
    "    stride=(3+3+2)*4,\n",
    "    in_position=0,\n",
    "    in_normals=3*4,\n",
    "    in_coordinates=6*4,\n",
    ")\n",
    "with pipeline.shader_stages(vk.ShaderStage.VERTEX):\n",
    "    pipeline.load_shader_from_source(vertex_shader_code)\n",
    "with pipeline.shader_stages(vk.ShaderStage.FRAGMENT):\n",
    "    pipeline.load_shader_from_source(fragment_shader_code)\n",
    "pipeline.close()"
   ],
   "metadata": {
    "collapsed": false,
    "ExecuteTime": {
     "start_time": "2024-07-30T12:32:51.313710100Z"
    }
   },
   "id": "4505008646a31310"
  },
  {
   "cell_type": "code",
   "execution_count": null,
   "outputs": [],
   "source": [
    "global_bindings = pipeline.create_descriptor_set_collection(set=0, count=1)\n",
    "global_bindings[0].update(global_transform=global_transform)\n",
    "local_bindings = pipeline.create_descriptor_set_collection(set=1, count=len(local_transforms))\n",
    "for i, lt in enumerate(local_transforms):\n",
    "    local_bindings[i].update(\n",
    "        local_transform=local_transforms[i]\n",
    "    )\n",
    "\n",
    "framebuffer = pipeline.create_framebuffer(\n",
    "    width=SCREEN_WIDTH,\n",
    "    height=SCREEN_HEIGHT,\n",
    "    render_target=render_target,\n",
    "    depth_buffer=depth_buffer\n",
    ")"
   ],
   "metadata": {
    "collapsed": false,
    "ExecuteTime": {
     "start_time": "2024-07-30T12:32:51.316709800Z"
    }
   },
   "id": "35814d7d70b66ca8"
  },
  {
   "cell_type": "code",
   "execution_count": null,
   "outputs": [],
   "source": [
    "man = vk.graphics_manager()\n",
    "man.use(render_target, vk.ImageUsage.RENDER_TARGET)\n",
    "man.image_barrier(render_target, vk.ImageUsage.ANY)\n",
    "man.clear_color(render_target, (0.0, 0.0, 0.4, 1.))\n",
    "man.clear_depth_stencil(depth_buffer, 1.0, 0)\n",
    "man.image_barrier(render_target, vk.ImageUsage.RENDER_TARGET)\n",
    "man.set_pipeline(pipeline)\n",
    "man.set_framebuffer(framebuffer)\n",
    "man.bind(global_bindings[0])"
   ],
   "metadata": {
    "collapsed": false,
    "ExecuteTime": {
     "start_time": "2024-07-30T12:32:51.318710300Z"
    }
   },
   "id": "475beaa6db2e8a0"
  },
  {
   "cell_type": "code",
   "execution_count": null,
   "outputs": [],
   "source": [
    "man.bind_vertex_buffer(0, vertex_buffer)\n",
    "man.bind_index_buffer(index_buffer)"
   ],
   "metadata": {
    "collapsed": false,
    "ExecuteTime": {
     "start_time": "2024-07-30T12:32:51.319710100Z"
    }
   },
   "id": "ca282b5fd505974a"
  },
  {
   "cell_type": "code",
   "execution_count": null,
   "outputs": [],
   "source": [
    "for i in range(len(local_transforms)):\n",
    "    man.bind(local_bindings[i])\n",
    "    man.dispatch_indexed_primitives(number_of_indices)\n",
    "man.freeze()"
   ],
   "metadata": {
    "collapsed": false,
    "ExecuteTime": {
     "start_time": "2024-07-30T12:32:51.321710400Z"
    }
   },
   "id": "19d25019d190f5f3"
  },
  {
   "cell_type": "code",
   "execution_count": null,
   "outputs": [],
   "source": [
    "vk.submit(man)"
   ],
   "metadata": {
    "collapsed": false,
    "ExecuteTime": {
     "start_time": "2024-07-30T12:32:51.322709400Z"
    }
   },
   "id": "77f5a29d82a92d9a"
  },
  {
   "cell_type": "code",
   "execution_count": null,
   "outputs": [],
   "source": [
    "import matplotlib.pyplot as plt\n",
    "staging = vk.tensor(render_target.height, render_target.width, 4)  \n",
    "with vk.graphics_manager() as b:\n",
    "    b.use(render_target, vk.ImageUsage.RENDER_TARGET)\n",
    "    b.image_barrier(render_target, vk.ImageUsage.ANY)\n",
    "render_target.save(staging)\n",
    "# visualize the tensor with matplotlib\n",
    "plt.imshow(staging.cpu())\n",
    "# plt.gca().axis('off')\n",
    "plt.tight_layout(pad=0.0)\n",
    "plt.show()"
   ],
   "metadata": {
    "collapsed": false,
    "ExecuteTime": {
     "start_time": "2024-07-30T12:32:51.324710300Z"
    }
   },
   "id": "2eeb6d7362f12c08"
  },
  {
   "cell_type": "markdown",
   "source": [
    "Let's create the video!"
   ],
   "metadata": {
    "collapsed": false
   },
   "id": "66c07cc69ac4a454"
  },
  {
   "cell_type": "code",
   "execution_count": null,
   "outputs": [],
   "source": [
    "video_data = vk.tensor(100, SCREEN_HEIGHT, SCREEN_WIDTH, 3)  # 100 frames\n",
    "\n",
    "for i in range(len(video_data)):\n",
    "    alpha = i / len(video_data)\n",
    "    look_at = vk.vec3(np.cos(alpha * 7), np.sin(alpha)*0.1 + 0.2, np.sin(alpha * 7))*(5 + np.sin(alpha))\n",
    "    # we dont need to map because is permanently mapped and update is always CPU -> GPU\n",
    "    with global_transform as b:\n",
    "        b.View = vk.mat4.look_at(look_at, vk.vec3(0., 0., 0.), vk.vec3(0.,1., 0.))\n",
    "    with vk.graphics_manager() as b:\n",
    "        b.use(render_target, vk.ImageUsage.ANY)\n",
    "        b.image_barrier(render_target, vk.ImageUsage.RENDER_TARGET)\n",
    "    vk.submit(man)\n",
    "    with vk.graphics_manager() as b:\n",
    "        b.use(render_target, vk.ImageUsage.RENDER_TARGET)\n",
    "        b.image_barrier(render_target, vk.ImageUsage.ANY)\n",
    "    render_target.save(staging)\n",
    "    video_data[i] = staging[...,:3]  # copy current frame to video (only RGB)\n",
    "    \n",
    "vk.save_video(video_data, 'teaser5.webp', 10)"
   ],
   "metadata": {
    "collapsed": false,
    "ExecuteTime": {
     "start_time": "2024-07-30T12:32:51.325709600Z"
    }
   },
   "id": "37eda689d29e56df"
  },
  {
   "cell_type": "code",
   "execution_count": null,
   "outputs": [],
   "source": [
    "import moviepy.editor\n",
    "moviepy.editor.ipython_display(\"teaser5.webp\", filetype='image')"
   ],
   "metadata": {
    "collapsed": false,
    "ExecuteTime": {
     "start_time": "2024-07-30T12:32:51.327710400Z"
    }
   },
   "id": "9ae156aa1dfee110"
  }
 ],
 "metadata": {
  "kernelspec": {
   "display_name": "Python 3",
   "language": "python",
   "name": "python3"
  },
  "language_info": {
   "codemirror_mode": {
    "name": "ipython",
    "version": 2
   },
   "file_extension": ".py",
   "mimetype": "text/x-python",
   "name": "python",
   "nbconvert_exporter": "python",
   "pygments_lexer": "ipython2",
   "version": "2.7.6"
  }
 },
 "nbformat": 4,
 "nbformat_minor": 5
}
