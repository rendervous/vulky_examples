{
 "cells": [
  {
   "cell_type": "markdown",
   "source": [
    "# Basic Raytracing\n",
    "\n",
    "__raytracing pipeline, raytracing manager, build and update ADS__\n"
   ],
   "metadata": {
    "collapsed": false
   },
   "id": "b97f5fda0ae90720"
  },
  {
   "cell_type": "code",
   "execution_count": null,
   "outputs": [],
   "source": [
    "import vulky as vk\n",
    "import numpy as np\n",
    "\n",
    "vk.create_device(debug=False)\n",
    "\n",
    "SCREEN_WIDTH = 512\n",
    "SCREEN_HEIGHT = 512\n",
    "\n",
    "render_target = vk.image_2D(\n",
    "    image_format=vk.Format.VEC4,\n",
    "    width=SCREEN_WIDTH,\n",
    "    height=SCREEN_HEIGHT,\n",
    "    mips=1,  # Important to make the image single resource\n",
    "    usage=vk.ImageUsage.STORAGE,\n",
    "    memory=vk.MemoryLocation.GPU\n",
    ")\n",
    "\n",
    "data = vk.load_obj('./vulky_data/bunny.obj')\n",
    "vertices_data, indices_data = vk.create_mesh(data, mode='po')"
   ],
   "metadata": {
    "collapsed": false
   },
   "id": "6471a59ec6d07748"
  },
  {
   "cell_type": "code",
   "execution_count": null,
   "outputs": [],
   "source": [
    "triangles_vb = vk.structured_buffer(\n",
    "    count=len(vertices_data), \n",
    "    element_description=dict(\n",
    "        P=vk.vec3,\n",
    "        N=vk.vec3,\n",
    "        C=vk.vec2\n",
    "    ),\n",
    "    usage=vk.BufferUsage.RAYTRACING_RESOURCE    \n",
    ").load(vertices_data)\n",
    "triangles_ib = vk.structured_buffer(\n",
    "    count=indices_data.numel(),\n",
    "    element_description=int,\n",
    "    usage=vk.BufferUsage.RAYTRACING_RESOURCE\n",
    ").load(indices_data)\n",
    "\n",
    "triangles = vk.triangle_collection()\n",
    "triangles.append(triangles_vb, triangles_ib)\n",
    "geometry_ads = vk.ads_model(triangles)\n",
    "\n",
    "instance_transforms = vk.tensor(3, 4, 3)\n",
    "for i in range(3):\n",
    "    instance_transforms[i] = vk.mat4x3.trs(vk.vec3(np.cos(i * 6.28 / 3), -0.2, np.sin(i * 6.28 / 3)), vk.vec3(0., 1., 0.0), i*3.14159/3, vk.vec3.one())\n",
    "    \n",
    "instances = vk.instance_buffer(3, memory=vk.MemoryLocation.CPU)  # intentionally on the CPU for fast update\n",
    "with instances.map(mode='inout') as m:\n",
    "    m.transform = vk.mat4x3(instance_transforms).transposed()\n",
    "    m.accelerationStructureReference = geometry_ads.handle  # All geometries are the same\n",
    "scene_ads = vk.ads_scene(instances)    \n",
    "\n",
    "scratch_buffer = vk.scratch_buffer(geometry_ads, scene_ads)\n",
    "    \n",
    "with vk.raytracing_manager() as man:\n",
    "    man.build_ads(geometry_ads, scratch_buffer)\n",
    "    man.build_ads(scene_ads, scratch_buffer)"
   ],
   "metadata": {
    "collapsed": false
   },
   "id": "5b6480a0549c57eb"
  },
  {
   "cell_type": "code",
   "execution_count": null,
   "outputs": [],
   "source": [
    "global_transform = vk.object_buffer(\n",
    "    vk.Layout.from_structure(\n",
    "        vk.LayoutAlignment.SCALAR,\n",
    "        Proj=vk.mat4,\n",
    "        View=vk.mat4\n",
    "    )\n",
    ")\n",
    "\n",
    "with global_transform as b:\n",
    "    b.Proj = vk.mat4.perspective()\n",
    "    b.View = vk.mat4.look_at(vk.vec3(0., 1., 4.), vk.vec3(0., 0.5, 0.), vk.vec3(0.,1., 0.))"
   ],
   "metadata": {
    "collapsed": false
   },
   "id": "89b4218e482994f4"
  },
  {
   "cell_type": "code",
   "execution_count": null,
   "outputs": [],
   "source": [
    "ray_generation_shader_code = \"\"\"\n",
    "#version 460\n",
    "#extension GL_EXT_ray_tracing : require\n",
    "\n",
    "layout(set = 0, binding = 0) uniform accelerationStructureEXT Scene;\n",
    "layout(set = 0, binding = 1) uniform Globals {\n",
    "    mat4 proj;\n",
    "    mat4 view;\n",
    "} globals;\n",
    "layout(set = 0, binding = 2, rgba32f) uniform image2D ResultImage;\n",
    "\n",
    "layout(location = 0) rayPayloadEXT vec4 ResultColor;\n",
    "\n",
    "void main() {\n",
    "    vec2 uv = (gl_LaunchIDEXT.xy + vec2(0.5)) / vec2(gl_LaunchSizeEXT.xy);\n",
    "    vec4 P = vec4(uv.x * 2 - 1.0, 1.0 - uv.y * 2, 0.0, 1.0);\n",
    "    vec4 T = vec4(uv.x * 2 - 1.0, 1.0 - uv.y * 2, 1.0, 1.0);\n",
    "    mat4 inv_transform = inverse(globals.proj * globals.view); \n",
    "    P = inv_transform * P;\n",
    "    T = inv_transform * T;\n",
    "    vec3 o = P.xyz / P.w;\n",
    "    vec3 d = normalize(T.xyz/T.w - o);\n",
    "    traceRayEXT(Scene, gl_RayFlagsNoneEXT, 0xFF, 0, 0, 0, o, 0.001, d, 1000.0f, 0);\n",
    "    imageStore(ResultImage, ivec2(gl_LaunchIDEXT.xy), ResultColor);\n",
    "}  \n",
    "\"\"\"\n",
    "closest_hit_shader_code = \"\"\"\n",
    "#version 460\n",
    "#extension GL_EXT_ray_tracing : require\n",
    "#extension GL_EXT_scalar_block_layout : require\n",
    "\n",
    "layout(location = 0) rayPayloadInEXT vec4 ResultColor;\n",
    "hitAttributeEXT vec2 HitAttribs;\n",
    "\n",
    "struct Vertex {\n",
    "    vec3 P;\n",
    "    vec3 N;\n",
    "    vec2 C;\n",
    "};\n",
    "\n",
    "layout(scalar, set=0, binding = 3) readonly buffer Vertices {\n",
    "    Vertex data[];\n",
    "} vertices;\n",
    "\n",
    "layout(scalar, set=0, binding = 4) readonly buffer Indices {\n",
    "    int data[];\n",
    "} indices;\n",
    "\n",
    "void main() {\n",
    "    int triangleIndex = gl_PrimitiveID;\n",
    "    Vertex v0 = vertices.data[indices.data[triangleIndex*3 + 0]];\n",
    "    Vertex v1 = vertices.data[indices.data[triangleIndex*3 + 1]];\n",
    "    Vertex v2 = vertices.data[indices.data[triangleIndex*3 + 2]];\n",
    "    vec3 coord = vec3(1 - HitAttribs.x - HitAttribs.y, HitAttribs.x, HitAttribs.y);\n",
    "    vec3 N =  normalize(v0.N * coord.x + v1.N * coord.y + v2.N * coord.z);\n",
    "    N = gl_ObjectToWorldEXT * vec4(N, 0);\n",
    "    //ResultColor = vec4(N.x, N.y, N.z, 1);\n",
    "    vec3 light = vec3(3,3,0.3)/3.14159*max(0.1, dot(N, normalize(vec3(2,1,5))));\n",
    "    ResultColor = vec4(light.x, light.y, light.z, 1);\n",
    "}\n",
    "\"\"\"\n",
    "miss_shader_code = \"\"\"\n",
    "#version 460\n",
    "#extension GL_EXT_ray_tracing : require\n",
    "\n",
    "layout(location = 0) rayPayloadInEXT vec4 ResultColor;\n",
    "\n",
    "void main() {\n",
    "    ResultColor = vec4(0.1, 0.1, 0.7, 1.0);\n",
    "}  \n",
    "\"\"\""
   ],
   "metadata": {
    "collapsed": false
   },
   "id": "afbcf9eba89bc15e"
  },
  {
   "cell_type": "code",
   "execution_count": null,
   "outputs": [],
   "source": [
    "pipeline = vk.pipeline_raytracing()\n",
    "pipeline.layout(set=0, binding=0, scene=vk.DescriptorType.SCENE_ADS)\n",
    "pipeline.layout(set=0, binding=1, global_transform=vk.DescriptorType.UNIFORM_BUFFER)\n",
    "pipeline.layout(set=0, binding=2, output_image=vk.DescriptorType.STORAGE_IMAGE)\n",
    "pipeline.layout(set=0, binding=3, vertices=vk.DescriptorType.STORAGE_BUFFER)\n",
    "pipeline.layout(set=0, binding=4, indices=vk.DescriptorType.STORAGE_BUFFER)\n",
    "with pipeline.shader_stages(vk.ShaderStage.RT_GENERATION):\n",
    "    gen_shader = pipeline.load_shader_from_source(ray_generation_shader_code)\n",
    "with pipeline.shader_stages(vk.ShaderStage.RT_MISS):\n",
    "    miss_shader = pipeline.load_shader_from_source(miss_shader_code)\n",
    "with pipeline.shader_stages(vk.ShaderStage.RT_CLOSEST_HIT):\n",
    "    closest_hit_shader = pipeline.load_shader_from_source(closest_hit_shader_code)\n",
    "gen_group = pipeline.create_rt_gen_group(gen_shader)\n",
    "hit_group = pipeline.create_rt_hit_group(closest_hit=closest_hit_shader)\n",
    "miss_group = pipeline.create_rt_miss_group(miss_shader)\n",
    "pipeline.close()"
   ],
   "metadata": {
    "collapsed": false
   },
   "id": "2d182fd1f4cbdd9"
  },
  {
   "cell_type": "code",
   "execution_count": null,
   "outputs": [],
   "source": [
    "rt_program = pipeline.create_rt_program(1, 1, 1, 1)\n",
    "with rt_program:\n",
    "    rt_program.set_generation(0, gen_group)\n",
    "    rt_program.set_hit_group(0, hit_group)\n",
    "    rt_program.set_miss(0, miss_group)"
   ],
   "metadata": {
    "collapsed": false
   },
   "id": "7810b759ab64f79b"
  },
  {
   "cell_type": "code",
   "execution_count": null,
   "outputs": [],
   "source": [
    "global_bindings = pipeline.create_descriptor_set_collection(set=0, count=1)\n",
    "global_bindings[0].update(\n",
    "    scene = scene_ads,\n",
    "    global_transform = global_transform,\n",
    "    output_image = render_target,\n",
    "    vertices = triangles_vb,\n",
    "    indices = triangles_ib\n",
    ")"
   ],
   "metadata": {
    "collapsed": false
   },
   "id": "90788502f5b21da2"
  },
  {
   "cell_type": "code",
   "execution_count": null,
   "outputs": [],
   "source": [
    "man = vk.raytracing_manager()\n",
    "man.set_pipeline(pipeline)\n",
    "man.bind(global_bindings[0])\n",
    "man.dispatch_rays(rt_program, SCREEN_WIDTH, SCREEN_HEIGHT)\n",
    "man.freeze()"
   ],
   "metadata": {
    "collapsed": false
   },
   "id": "bf4b68dd9463d62d"
  },
  {
   "cell_type": "code",
   "execution_count": null,
   "outputs": [],
   "source": [
    "vk.submit(man)"
   ],
   "metadata": {
    "collapsed": false
   },
   "id": "8b6202bf42a52c7a"
  },
  {
   "cell_type": "code",
   "execution_count": null,
   "outputs": [],
   "source": [
    "staging = vk.tensor(render_target.height, render_target.width, 4)\n",
    "render_target.save(staging)\n",
    "import matplotlib.pyplot as plt\n",
    "plt.imshow(staging.cpu() ** (1.0/2.2))\n",
    "plt.gca().axis('off')\n",
    "plt.tight_layout(pad=0.0)\n",
    "plt.show()"
   ],
   "metadata": {
    "collapsed": false
   },
   "id": "371e61f48ed12a4c"
  },
  {
   "cell_type": "markdown",
   "source": [
    "Let's create the video"
   ],
   "metadata": {
    "collapsed": false
   },
   "id": "b4681a2463da3c04"
  },
  {
   "cell_type": "code",
   "execution_count": null,
   "outputs": [],
   "source": [
    "video_data = vk.tensor(100, SCREEN_HEIGHT, SCREEN_WIDTH, 3)  # 100 frames"
   ],
   "metadata": {
    "collapsed": false
   },
   "id": "2199b53a122535fc"
  },
  {
   "cell_type": "code",
   "execution_count": null,
   "outputs": [],
   "source": [
    "for i in range(len(video_data)):\n",
    "    alpha = i / len(video_data)\n",
    "    look_at = vk.vec3(np.cos(alpha * 7), np.sin(alpha)*0.1 + 0.2, np.sin(alpha * 7))*(5 + np.sin(alpha))\n",
    "    # we dont need to map because is permanently mapped and update is always CPU -> GPU\n",
    "    with global_transform as b:\n",
    "        b.View = vk.mat4.look_at(look_at, vk.vec3(0., 0., 0.), vk.vec3(0.,1., 0.))\n",
    "    # update instance transforms for the top-level    \n",
    "    for j in range(3):\n",
    "        instance_transforms[j] = vk.mat4x3.trs(vk.vec3(np.cos(j * 6.28 / 3), -0.2, np.sin(j * \n",
    "          6.28 / 3)), vk.vec3(0., 1., 0.0), j*3.14159/3 + alpha * 6.28 * 2, vk.vec3.one())\n",
    "    # the scene ads is bound to this instance buffer already\n",
    "    with instances.map(mode='inout') as m:\n",
    "        m.transform = vk.mat4x3(instance_transforms).transposed()\n",
    "    with vk.raytracing_manager() as b:\n",
    "        b.update_ads(scene_ads, scratch_buffer)  # update top-level ads every frame\n",
    "    vk.submit(man)\n",
    "    render_target.save(staging)\n",
    "    video_data[i] = staging[...,:3] ** (1.0/2.2)  # copy current frame to video (only RGB)   "
   ],
   "metadata": {
    "collapsed": false
   },
   "id": "3145e5bd6055588d"
  },
  {
   "cell_type": "code",
   "execution_count": null,
   "outputs": [],
   "source": [
    "vk.save_video(video_data, 'teaser7.webp', 10, quality=100)\n",
    "import moviepy.editor\n",
    "moviepy.editor.ipython_display(\"teaser7.webp\", filetype='image')"
   ],
   "metadata": {
    "collapsed": false
   },
   "id": "d82e3e49cf5d3694"
  }
 ],
 "metadata": {
  "kernelspec": {
   "display_name": "Python 3",
   "language": "python",
   "name": "python3"
  },
  "language_info": {
   "codemirror_mode": {
    "name": "ipython",
    "version": 2
   },
   "file_extension": ".py",
   "mimetype": "text/x-python",
   "name": "python",
   "nbconvert_exporter": "python",
   "pygments_lexer": "ipython2",
   "version": "2.7.6"
  }
 },
 "nbformat": 4,
 "nbformat_minor": 5
}
