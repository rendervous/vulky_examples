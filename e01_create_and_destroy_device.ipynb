{
 "cells": [
  {
   "cell_type": "markdown",
   "source": [
    "# Create and Destroy Device\n",
    "\n",
    "__Device creation, vector operation and torch interop, destroying device__\n",
    "\n",
    "Vulky is a python facade to vulkan with reduced and simpler interface focused primarly to academic purposes. Objects are designed to represent graphics pipelines and techniques in a more compact way.\n",
    "\n",
    "Let's start importing the module ```vulky```"
   ],
   "metadata": {
    "collapsed": false
   },
   "id": "ce5983b7bb1a17bb"
  },
  {
   "cell_type": "code",
   "execution_count": 1,
   "outputs": [],
   "source": [
    "import vulky as vk"
   ],
   "metadata": {
    "collapsed": false,
    "ExecuteTime": {
     "end_time": "2024-07-26T19:31:58.874183800Z",
     "start_time": "2024-07-26T19:31:55.615594300Z"
    }
   },
   "id": "62c771f637121d64"
  },
  {
   "cell_type": "markdown",
   "source": [
    "Apart from rendering, vulky has objects to operate with vectors and matrices wrapping internally a torch tensor. This facilitates the interpretation of torch tensors as 3D objects and preserves differentiability when possible. This types also serves to declare equivalent vulkan shader types (```vec2```,...,```vec4```, ```mat2```, ..., ```mat4x3```, ```mat4```) "
   ],
   "metadata": {
    "collapsed": false
   },
   "id": "a29d4443ab4d60ff"
  },
  {
   "cell_type": "code",
   "execution_count": 2,
   "outputs": [
    {
     "name": "stdout",
     "output_type": "stream",
     "text": [
      "vec3([1.2676e-06, 1.0000e+00, 0.0000e+00])\n"
     ]
    }
   ],
   "source": [
    "a = vk.vec3(1., 0., .0)\n",
    "b = vk.mat3.rotation(vk.vec3(0., 0.0, 1.0), 3.14159/2)\n",
    "t = b@a\n",
    "print(t)"
   ],
   "metadata": {
    "collapsed": false,
    "ExecuteTime": {
     "end_time": "2024-07-26T19:31:59.218688300Z",
     "start_time": "2024-07-26T19:31:58.876184900Z"
    }
   },
   "id": "1209b4f0bb295e0"
  },
  {
   "cell_type": "markdown",
   "source": [
    "This vector and matrices types works also in batches. For instance, if you want to refer to a bidirectional array of (16,16) ```vec4``` you may use:"
   ],
   "metadata": {
    "collapsed": false
   },
   "id": "8898e45cfdb30277"
  },
  {
   "cell_type": "code",
   "execution_count": 3,
   "outputs": [
    {
     "name": "stdout",
     "output_type": "stream",
     "text": [
      "vec4([[[0., 0., 0., 0.],\n",
      "         [0., 0., 0., 0.],\n",
      "         [0., 0., 0., 0.],\n",
      "         ...,\n",
      "         [0., 0., 0., 0.],\n",
      "         [0., 0., 0., 0.],\n",
      "         [0., 0., 0., 0.]],\n",
      "\n",
      "        [[0., 0., 0., 0.],\n",
      "         [0., 0., 0., 0.],\n",
      "         [0., 0., 0., 0.],\n",
      "         ...,\n",
      "         [0., 0., 0., 0.],\n",
      "         [0., 0., 0., 0.],\n",
      "         [0., 0., 0., 0.]],\n",
      "\n",
      "        [[0., 0., 0., 0.],\n",
      "         [0., 0., 0., 0.],\n",
      "         [0., 0., 0., 0.],\n",
      "         ...,\n",
      "         [0., 0., 0., 0.],\n",
      "         [0., 0., 0., 0.],\n",
      "         [0., 0., 0., 0.]],\n",
      "\n",
      "        ...,\n",
      "\n",
      "        [[0., 0., 0., 0.],\n",
      "         [0., 0., 0., 0.],\n",
      "         [0., 0., 0., 0.],\n",
      "         ...,\n",
      "         [0., 0., 0., 0.],\n",
      "         [0., 0., 0., 0.],\n",
      "         [0., 0., 0., 0.]],\n",
      "\n",
      "        [[0., 0., 0., 0.],\n",
      "         [0., 0., 0., 0.],\n",
      "         [0., 0., 0., 0.],\n",
      "         ...,\n",
      "         [0., 0., 0., 0.],\n",
      "         [0., 0., 0., 0.],\n",
      "         [0., 0., 0., 0.]],\n",
      "\n",
      "        [[0., 0., 0., 0.],\n",
      "         [0., 0., 0., 0.],\n",
      "         [0., 0., 0., 0.],\n",
      "         ...,\n",
      "         [0., 0., 0., 0.],\n",
      "         [0., 0., 0., 0.],\n",
      "         [0., 0., 0., 0.]]])\n"
     ]
    }
   ],
   "source": [
    "t = vk.vec4.zero(16, 16)\n",
    "print(t)"
   ],
   "metadata": {
    "collapsed": false,
    "ExecuteTime": {
     "end_time": "2024-07-26T19:31:59.238050700Z",
     "start_time": "2024-07-26T19:31:59.219688400Z"
    }
   },
   "id": "3da100f36dce6da4"
  },
  {
   "cell_type": "markdown",
   "source": [
    "Important observation is that indexing vectors and matrices refers to the component of the vector, not the instance of the batch, i.e.: "
   ],
   "metadata": {
    "collapsed": false
   },
   "id": "b295fc9e70410122"
  },
  {
   "cell_type": "code",
   "execution_count": 4,
   "outputs": [
    {
     "name": "stdout",
     "output_type": "stream",
     "text": [
      "vec4([[[1., 2., 0., 0.],\n",
      "         [1., 2., 0., 0.],\n",
      "         [1., 2., 0., 0.],\n",
      "         ...,\n",
      "         [1., 2., 0., 0.],\n",
      "         [1., 2., 0., 0.],\n",
      "         [1., 2., 0., 0.]],\n",
      "\n",
      "        [[1., 2., 0., 0.],\n",
      "         [1., 2., 0., 0.],\n",
      "         [1., 2., 0., 0.],\n",
      "         ...,\n",
      "         [1., 2., 0., 0.],\n",
      "         [1., 2., 0., 0.],\n",
      "         [1., 2., 0., 0.]],\n",
      "\n",
      "        [[1., 2., 0., 0.],\n",
      "         [1., 2., 0., 0.],\n",
      "         [1., 2., 0., 0.],\n",
      "         ...,\n",
      "         [1., 2., 0., 0.],\n",
      "         [1., 2., 0., 0.],\n",
      "         [1., 2., 0., 0.]],\n",
      "\n",
      "        ...,\n",
      "\n",
      "        [[1., 2., 0., 0.],\n",
      "         [1., 2., 0., 0.],\n",
      "         [1., 2., 0., 0.],\n",
      "         ...,\n",
      "         [1., 2., 0., 0.],\n",
      "         [1., 2., 0., 0.],\n",
      "         [1., 2., 0., 0.]],\n",
      "\n",
      "        [[1., 2., 0., 0.],\n",
      "         [1., 2., 0., 0.],\n",
      "         [1., 2., 0., 0.],\n",
      "         ...,\n",
      "         [1., 2., 0., 0.],\n",
      "         [1., 2., 0., 0.],\n",
      "         [1., 2., 0., 0.]],\n",
      "\n",
      "        [[1., 2., 0., 0.],\n",
      "         [1., 2., 0., 0.],\n",
      "         [1., 2., 0., 0.],\n",
      "         ...,\n",
      "         [1., 2., 0., 0.],\n",
      "         [1., 2., 0., 0.],\n",
      "         [1., 2., 0., 0.]]])\n"
     ]
    }
   ],
   "source": [
    "t[0] = 1.0  # first component of all (16,16) vec4 where set to 1.0\n",
    "t.y = 2.0  # equivalent to index, a named access to the field is also valid and refers to whole the batch\n",
    "print(t)  "
   ],
   "metadata": {
    "collapsed": false,
    "ExecuteTime": {
     "end_time": "2024-07-26T19:31:59.278595400Z",
     "start_time": "2024-07-26T19:31:59.239051600Z"
    }
   },
   "id": "9f74c359d7098f54"
  },
  {
   "cell_type": "markdown",
   "source": [
    "For graphics, internally, vulky works with one single vulkan instance at the time but might work with several devices. There is a concept of active device and most of the methods of vulky library refers implicitly to that device. The active device can be selected with the ```device_manager``` method passing the device object. By default, the creation of a device, makes that device the active one. Notice, it is not a problem not to save the device if there is no intention to switch between devices in a future."
   ],
   "metadata": {
    "collapsed": false
   },
   "id": "8ae4b87fad8e133a"
  },
  {
   "cell_type": "code",
   "execution_count": 5,
   "outputs": [
    {
     "name": "stdout",
     "output_type": "stream",
     "text": [
      "[INFO] Vulkan Instance created...\n",
      "[INFO] Debug instance created...\n",
      "[INFO] Supported features {'coop_mat': True, 'rt': 1, 'rq': True, 'atomic': 1}\n",
      "[INFO] Available devices: 1\n",
      "[INFO] Selected device: NVIDIA GeForce RTX 2080 Ti\n",
      "\n",
      "[INFO] Selected device index: 0\n",
      "\n",
      "[INFO] 5 available queue family\n",
      "[PRINT] Inserted device layer \"VK_LAYER_KHRONOS_validation\" (C:\\VulkanSDK\\1.3.275.0\\Bin\\.\\VkLayer_khronos_validation.dll)\n",
      "[PRINT] Inserted device layer \"VK_LAYER_OBS_HOOK\" (C:\\ProgramData\\obs-studio-hook\\.\\graphics-hook64.dll)\n",
      "[PRINT] Inserted device layer \"VK_LAYER_NV_optimus\" (C:\\WINDOWS\\System32\\DriverStore\\FileRepository\\nv_dispi.inf_amd64_cc569e59ca39c5fe\\.\\nvoglv64.dll)\n",
      "[PRINT] vkCreateDevice layer callstack setup to:\n",
      "[PRINT]    <Application>\n",
      "[PRINT]      ||\n",
      "[PRINT]    <Loader>\n",
      "[PRINT]      ||\n",
      "[PRINT]    VK_LAYER_NV_optimus\n",
      "[PRINT]            Type: Implicit\n",
      "[PRINT]                Disable Env Var:  DISABLE_LAYER_NV_OPTIMUS_1\n",
      "[PRINT]            Manifest: C:\\WINDOWS\\System32\\DriverStore\\FileRepository\\nv_dispi.inf_amd64_cc569e59ca39c5fe\\nv-vk64.json\n",
      "[PRINT]            Library:  C:\\WINDOWS\\System32\\DriverStore\\FileRepository\\nv_dispi.inf_amd64_cc569e59ca39c5fe\\.\\nvoglv64.dll\n",
      "[PRINT]      ||\n",
      "[PRINT]    VK_LAYER_OBS_HOOK\n",
      "[PRINT]            Type: Implicit\n",
      "[PRINT]                Disable Env Var:  DISABLE_VULKAN_OBS_CAPTURE\n",
      "[PRINT]            Manifest: C:\\ProgramData\\obs-studio-hook\\obs-vulkan64.json\n",
      "[PRINT]            Library:  C:\\ProgramData\\obs-studio-hook\\.\\graphics-hook64.dll\n",
      "[PRINT]      ||\n",
      "[PRINT]    VK_LAYER_KHRONOS_validation\n",
      "[PRINT]            Type: Explicit\n",
      "[PRINT]            Manifest: C:\\VulkanSDK\\1.3.275.0\\Bin\\VkLayer_khronos_validation.json\n",
      "[PRINT]            Library:  C:\\VulkanSDK\\1.3.275.0\\Bin\\.\\VkLayer_khronos_validation.dll\n",
      "[PRINT]      ||\n",
      "[PRINT]    <Device>\n",
      "[PRINT]        Using \"NVIDIA GeForce RTX 2080 Ti\" with driver: \"C:\\WINDOWS\\System32\\DriverStore\\FileRepository\\nv_dispi.inf_amd64_cc569e59ca39c5fe\\.\\nvoglv64.dll\"\n",
      "[INFO] Device and queues created...\n",
      "[INFO] Creating page with 1024MB on CPU\n",
      "[INFO] Creating page with 1024MB on GPU\n"
     ]
    },
    {
     "data": {
      "text/plain": "<vulky._rendering_internal.DeviceManager at 0x19c6e3f2650>"
     },
     "execution_count": 5,
     "metadata": {},
     "output_type": "execute_result"
    }
   ],
   "source": [
    "vk.create_device(debug=True)"
   ],
   "metadata": {
    "collapsed": false,
    "ExecuteTime": {
     "end_time": "2024-07-26T19:32:00.866435100Z",
     "start_time": "2024-07-26T19:31:59.266595Z"
    }
   },
   "id": "3ada4dddfdd5739d"
  },
  {
   "cell_type": "markdown",
   "source": [
    "Vulky manages automatically two types of memory, the memory compatible with the host (CPU) and the memory purely in the graphic device (GPU). If cuda is present, the device memory is exported to cuda and Pytorch library, making the creation of tensors managed by vulkan simpler. "
   ],
   "metadata": {
    "collapsed": false
   },
   "id": "1b039c0c80c25dc8"
  },
  {
   "cell_type": "code",
   "execution_count": 6,
   "outputs": [
    {
     "name": "stdout",
     "output_type": "stream",
     "text": [
      "tensor([[0.2000, 0.2000, 0.2000, 0.2000],\n",
      "        [0.2000, 0.2000, 0.2000, 0.2000]], device='cuda:0')\n"
     ]
    }
   ],
   "source": [
    "t = vk.tensor(2,4)\n",
    "print(t + 0.2)"
   ],
   "metadata": {
    "collapsed": false,
    "ExecuteTime": {
     "end_time": "2024-07-26T19:32:01.875924200Z",
     "start_time": "2024-07-26T19:32:00.867434600Z"
    }
   },
   "id": "51570ac9f30ddd79"
  },
  {
   "cell_type": "markdown",
   "source": [
    "Although vulky tensors can be operated as regular ```torch``` tensors, the memory is owned by vulky and they must be deleted before vulkan device is destroyed."
   ],
   "metadata": {
    "collapsed": false
   },
   "id": "c28aa0ccc7a8a471"
  },
  {
   "cell_type": "code",
   "execution_count": 7,
   "outputs": [
    {
     "name": "stdout",
     "output_type": "stream",
     "text": [
      "[INFO] Destroyed vulkan instance\n"
     ]
    }
   ],
   "source": [
    "del t\n",
    "vk.quit()"
   ],
   "metadata": {
    "collapsed": false,
    "ExecuteTime": {
     "end_time": "2024-07-26T19:32:02.564273400Z",
     "start_time": "2024-07-26T19:32:01.874924100Z"
    }
   },
   "id": "1f66b76d5879cf59"
  }
 ],
 "metadata": {
  "kernelspec": {
   "display_name": "Python 3",
   "language": "python",
   "name": "python3"
  },
  "language_info": {
   "codemirror_mode": {
    "name": "ipython",
    "version": 2
   },
   "file_extension": ".py",
   "mimetype": "text/x-python",
   "name": "python",
   "nbconvert_exporter": "python",
   "pygments_lexer": "ipython2",
   "version": "2.7.6"
  }
 },
 "nbformat": 4,
 "nbformat_minor": 5
}
