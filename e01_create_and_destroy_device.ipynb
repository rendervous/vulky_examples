{
 "cells": [
  {
   "cell_type": "markdown",
   "source": [
    "# Create and Destroy Device\n",
    "\n",
    "__Device creation, vector operation and torch interop, destroying device__\n",
    "\n",
    "Vulky is a python facade to vulkan with reduced and simpler interface focused primarly to academic purposes. Objects are designed to represent graphics pipelines and techniques in a more compact way.\n",
    "\n",
    "Let's start importing the module ```vulky```"
   ],
   "metadata": {
    "collapsed": false
   },
   "id": "ce5983b7bb1a17bb"
  },
  {
   "cell_type": "code",
   "execution_count": null,
   "outputs": [],
   "source": [
    "import vulky as vk"
   ],
   "metadata": {
    "collapsed": false
   },
   "id": "62c771f637121d64"
  },
  {
   "cell_type": "markdown",
   "source": [
    "Apart from rendering, vulky has objects to operate with vectors and matrices wrapping internally a torch tensor. This facilitates the interpretation of torch tensors as 3D objects and preserves differentiability when possible. This types also serves to declare equivalent vulkan shader types (```vec2```,...,```vec4```, ```mat2```, ..., ```mat4x3```, ```mat4```) "
   ],
   "metadata": {
    "collapsed": false
   },
   "id": "a29d4443ab4d60ff"
  },
  {
   "cell_type": "code",
   "execution_count": null,
   "outputs": [],
   "source": [
    "a = vk.vec3(1., 0., .0)\n",
    "b = vk.mat3.rotation(vk.vec3(0., 0.0, 1.0), 3.14159/2)\n",
    "t = b@a\n",
    "print(t)"
   ],
   "metadata": {
    "collapsed": false
   },
   "id": "1209b4f0bb295e0"
  },
  {
   "cell_type": "markdown",
   "source": [
    "This vector and matrices types works also in batches. For instance, if you want to refer to a bidirectional array of (16,16) ```vec4``` you may use:"
   ],
   "metadata": {
    "collapsed": false
   },
   "id": "8898e45cfdb30277"
  },
  {
   "cell_type": "code",
   "execution_count": null,
   "outputs": [],
   "source": [
    "t = vk.vec4.zero(16, 16)\n",
    "print(t)"
   ],
   "metadata": {
    "collapsed": false
   },
   "id": "3da100f36dce6da4"
  },
  {
   "cell_type": "markdown",
   "source": [
    "Important observation is that indexing vectors and matrices refers to the component of the vector, not the instance of the batch, i.e.: "
   ],
   "metadata": {
    "collapsed": false
   },
   "id": "b295fc9e70410122"
  },
  {
   "cell_type": "code",
   "execution_count": null,
   "outputs": [],
   "source": [
    "t[0] = 1.0  # first component of all (16,16) vec4 where set to 1.0\n",
    "t.y = 2.0  # equivalent to index, a named access to the field is also valid and refers to whole the batch\n",
    "print(t)  "
   ],
   "metadata": {
    "collapsed": false
   },
   "id": "9f74c359d7098f54"
  },
  {
   "cell_type": "markdown",
   "source": [
    "For graphics, internally, vulky works with one single vulkan instance at the time but might work with several devices. There is a concept of active device and most of the methods of vulky library refers implicitly to that device. The active device can be selected with the ```device_manager``` method passing the device object. By default, the creation of a device, makes that device the active one. Notice, it is not a problem not to save the device if there is no intention to switch between devices in a future."
   ],
   "metadata": {
    "collapsed": false
   },
   "id": "8ae4b87fad8e133a"
  },
  {
   "cell_type": "code",
   "execution_count": null,
   "outputs": [],
   "source": [
    "vk.create_device(debug=True)"
   ],
   "metadata": {
    "collapsed": false
   },
   "id": "3ada4dddfdd5739d"
  },
  {
   "cell_type": "markdown",
   "source": [
    "Vulky manages automatically two types of memory, the memory compatible with the host (CPU) and the memory purely in the graphic device (GPU). If cuda is present, the device memory is exported to cuda and Pytorch library, making the creation of tensors managed by vulkan simpler. "
   ],
   "metadata": {
    "collapsed": false
   },
   "id": "1b039c0c80c25dc8"
  },
  {
   "cell_type": "code",
   "execution_count": null,
   "outputs": [],
   "source": [
    "t = vk.tensor(2,4)\n",
    "print(t + 0.2)"
   ],
   "metadata": {
    "collapsed": false
   },
   "id": "51570ac9f30ddd79"
  },
  {
   "cell_type": "markdown",
   "source": [
    "Also, for the vector types the library provides different random generators based on torch."
   ],
   "metadata": {
    "collapsed": false
   },
   "id": "3d4432e9177d16cb"
  },
  {
   "cell_type": "code",
   "execution_count": null,
   "outputs": [],
   "source": [
    "a = vk.vec3.rand()  # U[0..1)\n",
    "b = vk.vec3.randn()  # N(0, I)\n",
    "c = vk.vec3.randd(100)  # Uniform in hypersphere"
   ],
   "metadata": {
    "collapsed": false
   },
   "id": "476c2a6fdd035fd5"
  },
  {
   "cell_type": "code",
   "execution_count": null,
   "outputs": [],
   "source": [
    "import matplotlib.pyplot as plt\n",
    "fig = plt.figure()\n",
    "ax = fig.add_subplot(projection='3d')\n",
    "ax.scatter(c.x, c.y, c.z)\n",
    "fig.savefig('teaser1.jpg')\n",
    "plt.show()"
   ],
   "metadata": {
    "collapsed": false
   },
   "id": "3edd376fd2567577"
  },
  {
   "cell_type": "markdown",
   "source": [
    "Although vulky tensors can be operated as regular ```torch``` tensors, the memory is owned by vulky and they must be deleted before vulkan device is destroyed."
   ],
   "metadata": {
    "collapsed": false
   },
   "id": "c28aa0ccc7a8a471"
  },
  {
   "cell_type": "code",
   "execution_count": null,
   "outputs": [],
   "source": [
    "del t\n",
    "vk.quit()"
   ],
   "metadata": {
    "collapsed": false
   },
   "id": "1f66b76d5879cf59"
  }
 ],
 "metadata": {
  "kernelspec": {
   "display_name": "Python 3",
   "language": "python",
   "name": "python3"
  },
  "language_info": {
   "codemirror_mode": {
    "name": "ipython",
    "version": 2
   },
   "file_extension": ".py",
   "mimetype": "text/x-python",
   "name": "python",
   "nbconvert_exporter": "python",
   "pygments_lexer": "ipython2",
   "version": "2.7.6"
  }
 },
 "nbformat": 4,
 "nbformat_minor": 5
}
