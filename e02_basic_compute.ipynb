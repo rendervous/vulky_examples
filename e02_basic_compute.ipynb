{
 "cells": [
  {
   "cell_type": "markdown",
   "source": [
    "# Basic compute\n",
    "\n",
    "__resources, pipelines, shaders, descriptor sets, command buffer managers__\n",
    "\n",
    "Vulky wraps objects of vulkan API in a simpler way. Nevertheless, some objects are a collection of different objects in vulkan. That is the case of a Pipeline. In vulky a ```Pipeline``` object encapsulates work with shaders (VkShaderModule), layouts, bindings, framebuffers, render passes, descriptors.\n",
    "In this notebook we exemplify the use of vulky to generate the classic Mandelbrot set and introduce the concepts of ```Pipeline```, ```CommandManager``` and some resources."
   ],
   "metadata": {
    "collapsed": false
   },
   "id": "32f6c1f78f86cd13"
  },
  {
   "cell_type": "code",
   "execution_count": null,
   "outputs": [],
   "source": [
    "import vulky as vk\n",
    "vk.create_device(debug=True)  # good to devise errors not handled by vulky and fallback on vulkan."
   ],
   "metadata": {
    "collapsed": false
   },
   "id": "a509773167c909c5"
  },
  {
   "cell_type": "markdown",
   "source": [
    "Vulky represents resources and their views with the same object. Internally, the memory shared by different aliases are managed, but resources use for bindings, copies and other operations have the 'view' (or slice) intrinsic. Resources represents a hierarchy composed of:\n",
    "- ```Buffer```: a general use raw buffer. Buffers can be sliced with offset and size.\n",
    "- ```StructuredBuffer```: a buffer that can be accessed as an array of structures.\n",
    "- ```ObjectBuffer```: a permanent mapped buffer that can accessed with a simple dot notation.\n",
    "- ```Image```: a 1D, 2D or 3D image that can be used to store texels, sample or attach to a framebuffer as render target or depth buffer. Images are compound by different subresources for layers and mips.\n",
    "- ```Sampler```: a description of how texels are sampled from an image.\n",
    "\n",
    "In this example we will create an image to serve as render target and an object buffer (uniform buffer) to specify the properties of the fractal generator. It is a common pattern in vulky declare named fields with kwargs. Notice how the layout declaration is filled using a notation ```field_name=field_type```."
   ],
   "metadata": {
    "collapsed": false
   },
   "id": "7eaea9b41cc44ac4"
  },
  {
   "cell_type": "code",
   "execution_count": null,
   "outputs": [],
   "source": [
    "SCREEN_WIDTH = 512\n",
    "SCREEN_HEIGHT = 512\n",
    "\n",
    "render_target = vk.image_2D(\n",
    "    image_format=vk.Format.VEC4,\n",
    "    width=SCREEN_WIDTH,\n",
    "    height=SCREEN_HEIGHT,\n",
    "    mips=1,  # Important to make the image single resource\n",
    "    usage=vk.ImageUsage.STORAGE,\n",
    "    memory=vk.MemoryLocation.GPU\n",
    ")\n",
    "\n",
    "parameters_buffer = vk.object_buffer(\n",
    "    layout=vk.Layout.from_structure(vk.LayoutAlignment.STD430,\n",
    "        C=vk.vec2,\n",
    "        W=float,\n",
    "    ),\n",
    "    memory=vk.MemoryLocation.GPU\n",
    ")"
   ],
   "metadata": {
    "collapsed": false
   },
   "id": "177a0b50617ee146"
  },
  {
   "cell_type": "markdown",
   "source": [
    "Now, let's define the compute shader that will generate the fractal."
   ],
   "metadata": {
    "collapsed": false
   },
   "id": "e50ab28dd9b6735c"
  },
  {
   "cell_type": "code",
   "execution_count": null,
   "outputs": [],
   "source": [
    "compute_shader_code = \"\"\"\n",
    "#version 460\n",
    "#extension GL_EXT_scalar_block_layout: require\n",
    "\n",
    "layout (local_size_x = 32, local_size_y = 32, local_size_z = 1) in;\n",
    "\n",
    "layout(binding = 0, rgba32f) uniform image2D render_target;\n",
    "layout(binding = 1, std430) uniform Parameters { vec2 C;  float W; };\n",
    "\n",
    "vec4 get_color(float m) {\n",
    "    m = min(m, 100.0);\n",
    "    float s = 2*(1.0 / (1 + exp(-m)) - 0.5);\n",
    "    // return vec4(1 - s, 1.0-s*s, mod(s+0.5, 1.0), 1.0);\n",
    "    return vec4(1 - s*s, 1 - s, mod(s*s + 0.5, 1.0), 1.0);\n",
    "}\n",
    "\n",
    "void main() {\n",
    "    ivec3 thread_id = ivec3(gl_GlobalInvocationID);\n",
    "    ivec2 dim = imageSize(render_target);\n",
    "    vec2 c = C + W * vec2((thread_id.x + 0.5) / dim.x, (thread_id.y + 0.5) / dim.y) - W/2.0;\n",
    "    vec2 Z = vec2(0., 0.);\n",
    "    for (int i=0; i<256; i++)\n",
    "        Z = vec2(Z.x*Z.x - Z.y*Z.y, 2*Z.x*Z.y) + c;\n",
    "    float m = sqrt(dot(Z, Z));\n",
    "\n",
    "    imageStore(render_target, thread_id.xy, get_color(m));    \n",
    "}\n",
    "    \"\"\""
   ],
   "metadata": {
    "collapsed": false
   },
   "id": "40e915eb0f5f9eda"
  },
  {
   "cell_type": "markdown",
   "source": [
    "Notice in the code, the shader requires a pipeline that sets a texture and a uniform buffer with std430 layout. In vulkan there are several object that need to be combined to manage such setup, in vulky is simplified under the object ```Pipeline```. Pipelines conforms a hierarchy of valid types of points.\n",
    "\n",
    "```Pipeline```: Object capable of setup shader modules, resource bindings, create compatible descriptor collections.\n",
    "\n",
    "```ComputePipeline```: Valid pipeline for Compute command buffer managers.\n",
    "\n",
    "```GraphicsPipeline```: Valid pipeline for Graphics command buffer managers. Extends a Pipeline to allow to declare attachments, vertex_binding and vertex declarations.   \n",
    "\n",
    "```RaytracingPipeline```: Valid pipeline for Raytracing command buffer manager. Extends a Pipeline to allow shader group creations."
   ],
   "metadata": {
    "collapsed": false
   },
   "id": "89250d142602e8fb"
  },
  {
   "cell_type": "code",
   "execution_count": null,
   "outputs": [],
   "source": [
    "pipeline = vk.pipeline_compute()\n",
    "pipeline.layout(set=0, binding=0, render_target=vk.DescriptorType.STORAGE_IMAGE)\n",
    "pipeline.layout(set=0, binding=1, parameters_buffer=vk.DescriptorType.UNIFORM_BUFFER)\n",
    "pipeline.load_shader_from_source(compute_shader_code)\n",
    "pipeline.close()"
   ],
   "metadata": {
    "collapsed": false
   },
   "id": "684dc96b06abaad5"
  },
  {
   "cell_type": "markdown",
   "source": [
    "The method ```layout``` is used to speficify each resource that forms part of the pipeline bindings. Notice the use of a single kwarg to refer to a named resource binding declaration. Later that name will be used for the real binding when descriptor sets are created. The pipeline is considered open for setup after the creation and until closed. After this operation, the pipeline can be used to create descriptor sets and bind in the command buffer."
   ],
   "metadata": {
    "collapsed": false
   },
   "id": "dfe6cb34c39a1d02"
  },
  {
   "cell_type": "code",
   "execution_count": null,
   "outputs": [],
   "source": [
    "global_bindings = pipeline.create_descriptor_set_collection(set=0, count=1)"
   ],
   "metadata": {
    "collapsed": false
   },
   "id": "20042eb3a3f34146"
  },
  {
   "cell_type": "markdown",
   "source": [
    "Descriptor sets are created in collections (that potentially might be just 1). This is helpful to create different descriptor sets that can be updated while others are in use (e.g. triple-buffering). Or different instances of the same descriptor set to represent different objects (local transforms or properties). In this case we are creating a single global binding set. We use the same reference-name used in the ```layout``` method to bind the resource. The parameter ```set``` refers to the set is being created and ```count``` specifies the number of compatible copies of that descriptor set."
   ],
   "metadata": {
    "collapsed": false
   },
   "id": "f468a4e13fa1c5f0"
  },
  {
   "cell_type": "code",
   "execution_count": null,
   "outputs": [],
   "source": [
    "global_bindings[0].update(\n",
    "    render_target=render_target,\n",
    "    parameters_buffer=parameters_buffer\n",
    ")"
   ],
   "metadata": {
    "collapsed": false
   },
   "id": "3747507b30f1b394"
  },
  {
   "cell_type": "markdown",
   "source": [
    "The descriptor update here takes place in this specific moment. Is equivalent to write descriptors in vulkan. Problems writing descriptor sets being used by the gpu are not controlled by vulky and will face vulkan check."
   ],
   "metadata": {
    "collapsed": false
   },
   "id": "97766a73b2eb7b30"
  },
  {
   "cell_type": "markdown",
   "source": [
    "The parameters in ```parameters_buffer``` should be updated before submission. Using an object buffer in a context allows to work with an accessor that provides a natural field access via dot notation. "
   ],
   "metadata": {
    "collapsed": false
   },
   "id": "efd891dd05bf444"
  },
  {
   "cell_type": "code",
   "execution_count": null,
   "outputs": [],
   "source": [
    "with parameters_buffer as b:\n",
    "    b.C = vk.vec2(-.748, .1)\n",
    "    b.W = 0.01"
   ],
   "metadata": {
    "collapsed": false
   },
   "id": "e9d418d702a20e73"
  },
  {
   "cell_type": "markdown",
   "source": [
    "Now we have everything we need to execute the fractal generation on the GPU.\n",
    "First, create a manager object to command compute actions with ```compute_manager```. This object used in a context will populate the commands in the variable and will submit automatically at the exit."
   ],
   "metadata": {
    "collapsed": false
   },
   "id": "c05e9ee0cefcb86a"
  },
  {
   "cell_type": "code",
   "execution_count": null,
   "outputs": [],
   "source": [
    "with vk.compute_manager() as man:\n",
    "    man.set_pipeline(pipeline)\n",
    "    man.bind(global_bindings[0])\n",
    "    man.dispatch_threads_2D(render_target.width, render_target.height)"
   ],
   "metadata": {
    "collapsed": false
   },
   "id": "3ae5e65ed08335d0"
  },
  {
   "cell_type": "markdown",
   "source": [
    "With a command buffer manager (```man```) the first action will be set the pipeline. Then we bind the descriptor set (```global_bindings[0]```) and finally, we ask the GPU to dispatch a thread for every pixel of the render target. The method ```dispatch_threads_X``` will dispatch sufficient groups to cover the required threads. In the case of 2D grids, the threads are split by default in groups of (32,32,1) but other group size can be specified. You can use ```dispatch_groups``` instead."
   ],
   "metadata": {
    "collapsed": false
   },
   "id": "7449e87428d41426"
  },
  {
   "cell_type": "markdown",
   "source": [
    "In this point, the submission and execution on the GPU has finalized because the implicit submission when a command manager is used in a context waits for finishing the GPU execution. Let's copy the image to a staging tensor to visualize. Vulky is well integrated with Pytorch, and an efficient copy from vulkan resource to a tensor is possible."
   ],
   "metadata": {
    "collapsed": false
   },
   "id": "71c505c98be0f83f"
  },
  {
   "cell_type": "code",
   "execution_count": null,
   "outputs": [],
   "source": [
    "staging = vk.tensor(render_target.height, render_target.width, 4)\n",
    "render_target.save(staging)"
   ],
   "metadata": {
    "collapsed": false
   },
   "id": "8c625a5bebec9449"
  },
  {
   "cell_type": "markdown",
   "source": [
    "Notice that the tensor created may have any shape, but the final size must be compatible with the image is being saved. There is no blit operation with ```save```, although blit operations are also supported. Now, we will view the image with matplotlib."
   ],
   "metadata": {
    "collapsed": false
   },
   "id": "b2e21a926be39494"
  },
  {
   "cell_type": "code",
   "execution_count": null,
   "outputs": [],
   "source": [
    "import matplotlib.pyplot as plt\n",
    "plt.imshow(staging.cpu())\n",
    "plt.show()"
   ],
   "metadata": {
    "collapsed": false
   },
   "id": "102c526f29a7325b"
  },
  {
   "cell_type": "markdown",
   "source": [
    "Let's create a simple animation with this:"
   ],
   "metadata": {
    "collapsed": false
   },
   "id": "1a913e48bc8780ef"
  },
  {
   "cell_type": "code",
   "execution_count": null,
   "outputs": [],
   "source": [
    "video_data = vk.tensor(100, SCREEN_HEIGHT, SCREEN_WIDTH, 3)  # 100 frames\n",
    "\n",
    "man = vk.compute_manager()\n",
    "man.set_pipeline(pipeline)\n",
    "man.bind(global_bindings[0])\n",
    "man.dispatch_threads_2D(render_target.width, render_target.height)\n",
    "man.freeze()  # can be re-submitted several times\n",
    "\n",
    "for i in range(len(video_data)):\n",
    "    # update buffer\n",
    "    with parameters_buffer as b:\n",
    "        b.C = vk.vec2(-.74942, .07195)\n",
    "        b.W = 2.0 * (0.9 ** (100 * i / len(video_data)))\n",
    "    # re-submit commands to gpu\n",
    "    vk.submit(man)  # by default will wait until finishes\n",
    "    render_target.save(staging)\n",
    "    video_data[i] = staging[...,:3]  # copy current frame to video (only RGB)\n",
    "    \n",
    "vk.save_video(video_data, 'teaser2.webp', 10)"
   ],
   "metadata": {
    "collapsed": false
   },
   "id": "16d7f6da64f820ea"
  },
  {
   "cell_type": "code",
   "execution_count": null,
   "outputs": [],
   "source": [
    "import moviepy.editor\n",
    "moviepy.editor.ipython_display(\"teaser2.webp\", filetype='image')"
   ],
   "metadata": {
    "collapsed": false
   },
   "id": "1933585a11a255da"
  }
 ],
 "metadata": {
  "kernelspec": {
   "display_name": "Python 3",
   "language": "python",
   "name": "python3"
  },
  "language_info": {
   "codemirror_mode": {
    "name": "ipython",
    "version": 2
   },
   "file_extension": ".py",
   "mimetype": "text/x-python",
   "name": "python",
   "nbconvert_exporter": "python",
   "pygments_lexer": "ipython2",
   "version": "2.7.6"
  }
 },
 "nbformat": 4,
 "nbformat_minor": 5
}
