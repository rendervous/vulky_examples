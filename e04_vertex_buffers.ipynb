{
 "cells": [
  {
   "cell_type": "markdown",
   "source": [
    "# Vertex Buffers\n",
    "\n",
    "__vertex declaration, vertex bindings, index buffer__\n",
    "\n",
    "In this example we show how to create vertex buffers, load the data, declare in a pipeline the vertex locations, the vertex bindings (if it is statically set in the pipeline) and how to bind vertex buffers and index buffers in the command manager before drawing.\n",
    "\n",
    "Similar to previous example:"
   ],
   "metadata": {
    "collapsed": false
   },
   "id": "ab8764d9f09a84c2"
  },
  {
   "cell_type": "code",
   "execution_count": 1,
   "outputs": [
    {
     "name": "stdout",
     "output_type": "stream",
     "text": [
      "[INFO] Initial available layers: ['VK_LAYER_NV_optimus', 'VK_LAYER_NV_nomad_release_public_2019_3_0', 'VK_LAYER_OBS_HOOK', 'VK_LAYER_NV_nomad_release_public_2021_5_1', 'VK_LAYER_NV_GPU_Trace_release_public_2021_5_1', 'VK_LAYER_LUNARG_api_dump', 'VK_LAYER_LUNARG_gfxreconstruct', 'VK_LAYER_KHRONOS_synchronization2', 'VK_LAYER_KHRONOS_validation', 'VK_LAYER_LUNARG_monitor', 'VK_LAYER_LUNARG_screenshot', 'VK_LAYER_KHRONOS_profiles', 'VK_LAYER_KHRONOS_shader_object']\n",
      "[INFO] Vulkan Instance created...\n",
      "[INFO] Debug instance created...\n",
      "[INFO] Supported features {'coop_mat': True, 'rt': 1, 'rq': True, 'atomic': 1}\n",
      "[INFO] Available devices: 1\n",
      "[INFO] Selected device: NVIDIA GeForce RTX 2080 Ti\n",
      "\n",
      "[INFO] Selected device index: 0\n",
      "\n",
      "[INFO] 5 available queue family\n",
      "[PRINT] Inserted device layer \"VK_LAYER_KHRONOS_validation\" (C:\\VulkanSDK\\1.3.275.0\\Bin\\.\\VkLayer_khronos_validation.dll)\n",
      "[PRINT] Inserted device layer \"VK_LAYER_OBS_HOOK\" (C:\\ProgramData\\obs-studio-hook\\.\\graphics-hook64.dll)\n",
      "[PRINT] Inserted device layer \"VK_LAYER_NV_optimus\" (C:\\WINDOWS\\System32\\DriverStore\\FileRepository\\nv_dispi.inf_amd64_cc569e59ca39c5fe\\.\\nvoglv64.dll)\n",
      "[PRINT] vkCreateDevice layer callstack setup to:\n",
      "[PRINT]    <Application>\n",
      "[PRINT]      ||\n",
      "[PRINT]    <Loader>\n",
      "[PRINT]      ||\n",
      "[PRINT]    VK_LAYER_NV_optimus\n",
      "[PRINT]            Type: Implicit\n",
      "[PRINT]                Disable Env Var:  DISABLE_LAYER_NV_OPTIMUS_1\n",
      "[PRINT]            Manifest: C:\\WINDOWS\\System32\\DriverStore\\FileRepository\\nv_dispi.inf_amd64_cc569e59ca39c5fe\\nv-vk64.json\n",
      "[PRINT]            Library:  C:\\WINDOWS\\System32\\DriverStore\\FileRepository\\nv_dispi.inf_amd64_cc569e59ca39c5fe\\.\\nvoglv64.dll\n",
      "[PRINT]      ||\n",
      "[PRINT]    VK_LAYER_OBS_HOOK\n",
      "[PRINT]            Type: Implicit\n",
      "[PRINT]                Disable Env Var:  DISABLE_VULKAN_OBS_CAPTURE\n",
      "[PRINT]            Manifest: C:\\ProgramData\\obs-studio-hook\\obs-vulkan64.json\n",
      "[PRINT]            Library:  C:\\ProgramData\\obs-studio-hook\\.\\graphics-hook64.dll\n",
      "[PRINT]      ||\n",
      "[PRINT]    VK_LAYER_KHRONOS_validation\n",
      "[PRINT]            Type: Explicit\n",
      "[PRINT]            Manifest: C:\\VulkanSDK\\1.3.275.0\\Bin\\VkLayer_khronos_validation.json\n",
      "[PRINT]            Library:  C:\\VulkanSDK\\1.3.275.0\\Bin\\.\\VkLayer_khronos_validation.dll\n",
      "[PRINT]      ||\n",
      "[PRINT]    <Device>\n",
      "[PRINT]        Using \"NVIDIA GeForce RTX 2080 Ti\" with driver: \"C:\\WINDOWS\\System32\\DriverStore\\FileRepository\\nv_dispi.inf_amd64_cc569e59ca39c5fe\\.\\nvoglv64.dll\"\n",
      "[INFO] Device and queues created...\n",
      "[INFO] Creating page with 1024MB on CPU\n",
      "[INFO] Creating page with 1024MB on GPU\n"
     ]
    }
   ],
   "source": [
    "import vulky as vk\n",
    "import torch\n",
    "vk.create_device(debug=True)\n",
    "SCREEN_WIDTH = 512\n",
    "SCREEN_HEIGHT = 512\n",
    "render_target = vk.render_target(\n",
    "    image_format=vk.Format.VEC4,\n",
    "    width=SCREEN_WIDTH,\n",
    "    height=SCREEN_HEIGHT\n",
    ")\n",
    "depth_buffer = vk.depth_stencil(\n",
    "    width=SCREEN_WIDTH,\n",
    "    height=SCREEN_HEIGHT\n",
    ")"
   ],
   "metadata": {
    "collapsed": false,
    "ExecuteTime": {
     "end_time": "2024-07-31T16:52:26.667887100Z",
     "start_time": "2024-07-31T16:52:22.225801900Z"
    }
   },
   "id": "54f7724b4f11c1f"
  },
  {
   "cell_type": "code",
   "execution_count": 2,
   "outputs": [],
   "source": [
    "vertex_buffer = vk.vertex_buffer(4, element_description=dict(\n",
    "    P=vk.vec3,\n",
    "    C=vk.vec2\n",
    "))"
   ],
   "metadata": {
    "collapsed": false,
    "ExecuteTime": {
     "end_time": "2024-07-31T16:52:26.693496300Z",
     "start_time": "2024-07-31T16:52:26.669884400Z"
    }
   },
   "id": "1a28ebe8bedac906"
  },
  {
   "cell_type": "code",
   "execution_count": 3,
   "outputs": [],
   "source": [
    "with vertex_buffer.map(mode='in') as vb:\n",
    "    vb.P = [\n",
    "        [-.9, -.9, 0.5],\n",
    "        [.9, -.9, 0.5],\n",
    "        [.9, .9, 0.5],\n",
    "        [-.9, .9, 0.5]\n",
    "    ]\n",
    "    vb.C = [\n",
    "        [0.0, 0.0],\n",
    "        [1.0, 0.0],\n",
    "        [1.0, 1.0],\n",
    "        [0.0, 1.0]\n",
    "    ]"
   ],
   "metadata": {
    "collapsed": false,
    "ExecuteTime": {
     "end_time": "2024-07-31T16:52:26.693496300Z",
     "start_time": "2024-07-31T16:52:26.683181900Z"
    }
   },
   "id": "c1297384a038bb49"
  },
  {
   "cell_type": "code",
   "execution_count": 4,
   "outputs": [
    {
     "data": {
      "text/plain": "tensor([0, 0, 0, 0, 1, 0, 0, 0, 2, 0, 0, 0, 0, 0, 0, 0, 2, 0, 0, 0, 3, 0, 0, 0],\n       device='cuda:0', dtype=torch.uint8)"
     },
     "execution_count": 4,
     "metadata": {},
     "output_type": "execute_result"
    }
   ],
   "source": [
    "index_buffer = vk.index_buffer(6)\n",
    "index_buffer.load([0, 1, 2, 0, 2, 3])"
   ],
   "metadata": {
    "collapsed": false,
    "ExecuteTime": {
     "end_time": "2024-07-31T16:52:26.693496300Z",
     "start_time": "2024-07-31T16:52:26.685181300Z"
    }
   },
   "id": "798416e7d8b356e3"
  },
  {
   "cell_type": "code",
   "execution_count": 5,
   "outputs": [],
   "source": [
    "vertex_shader_code = \"\"\"\n",
    "#version 450\n",
    "#extension GL_EXT_scalar_block_layout: enable\n",
    "\n",
    "layout(location = 0) in vec3 in_position;\n",
    "layout(location = 1) in vec2 in_coordinates;\n",
    "layout(location = 0) out vec2 out_coordinates;\n",
    "\n",
    "void main()\n",
    "{\n",
    "    gl_Position = vec4(in_position, 1.0);\n",
    "    out_coordinates = in_coordinates;\n",
    "}\n",
    "\"\"\"\n",
    "fragment_shader_code = \"\"\"\n",
    "#version 450\n",
    "layout(location = 0) in vec2 in_coordinates;\n",
    "layout(location = 0) out vec4 out_color;\n",
    "void main() {\n",
    "    out_color = vec4(in_coordinates.x, in_coordinates.y, 1.0, 1.0);\n",
    "}\n",
    "\"\"\""
   ],
   "metadata": {
    "collapsed": false,
    "ExecuteTime": {
     "end_time": "2024-07-31T16:52:26.694497400Z",
     "start_time": "2024-07-31T16:52:26.690977900Z"
    }
   },
   "id": "98eecb2e2aae2323"
  },
  {
   "cell_type": "code",
   "execution_count": 6,
   "outputs": [],
   "source": [
    "pipeline = vk.pipeline_graphics()\n",
    "pipeline.attach(slot=0, render_target=vk.Format.VEC4)\n",
    "pipeline.attach(slot=1, depth_buffer=vk.Format.DEPTH_STENCIL)"
   ],
   "metadata": {
    "collapsed": false,
    "ExecuteTime": {
     "end_time": "2024-07-31T16:52:26.705673400Z",
     "start_time": "2024-07-31T16:52:26.695498Z"
    }
   },
   "id": "b658d8622ee4ee54"
  },
  {
   "cell_type": "code",
   "execution_count": 7,
   "outputs": [],
   "source": [
    "pipeline.vertex(location=0, in_position=vk.Format.VEC3)\n",
    "pipeline.vertex(location=1, in_coordinates=vk.Format.VEC2)\n",
    "pipeline.vertex_binding(\n",
    "    binding=0,\n",
    "    stride=(3+2)*4,\n",
    "    in_position=0,\n",
    "    in_coordinates=3*4,\n",
    ")"
   ],
   "metadata": {
    "collapsed": false,
    "ExecuteTime": {
     "end_time": "2024-07-31T16:52:26.705673400Z",
     "start_time": "2024-07-31T16:52:26.699824500Z"
    }
   },
   "id": "7b8990be969413b9"
  },
  {
   "cell_type": "code",
   "execution_count": 8,
   "outputs": [
    {
     "name": "stdout",
     "output_type": "stream",
     "text": [
      "[INFO] Compiled code for vert\n",
      "[INFO] Compiled code for frag\n"
     ]
    }
   ],
   "source": [
    "with pipeline.shader_stages(vk.ShaderStage.VERTEX):\n",
    "    pipeline.load_shader_from_source(vertex_shader_code)\n",
    "with pipeline.shader_stages(vk.ShaderStage.FRAGMENT):\n",
    "    pipeline.load_shader_from_source(fragment_shader_code)\n",
    "pipeline.close()  # This creates the internal pipeline object and bindings"
   ],
   "metadata": {
    "collapsed": false,
    "ExecuteTime": {
     "end_time": "2024-07-31T16:52:27.235983600Z",
     "start_time": "2024-07-31T16:52:26.705673400Z"
    }
   },
   "id": "74c212e04427c7fe"
  },
  {
   "cell_type": "code",
   "execution_count": 9,
   "outputs": [],
   "source": [
    "framebuffer = pipeline.create_framebuffer(\n",
    "    width=SCREEN_WIDTH,\n",
    "    height=SCREEN_HEIGHT,\n",
    "    render_target=render_target,\n",
    "    depth_buffer=depth_buffer\n",
    ")"
   ],
   "metadata": {
    "collapsed": false,
    "ExecuteTime": {
     "end_time": "2024-07-31T16:52:27.249847700Z",
     "start_time": "2024-07-31T16:52:27.236986900Z"
    }
   },
   "id": "e03ca22629a63136"
  },
  {
   "cell_type": "code",
   "execution_count": 10,
   "outputs": [],
   "source": [
    "man = vk.graphics_manager()\n",
    "man.clear_color(render_target, (0.0, 0.0, 0.5, 1.0))\n",
    "man.clear_depth_stencil(depth_buffer, 1.0, 0)\n",
    "man.set_pipeline(pipeline)\n",
    "man.set_framebuffer(framebuffer)"
   ],
   "metadata": {
    "collapsed": false,
    "ExecuteTime": {
     "end_time": "2024-07-31T16:52:27.249847700Z",
     "start_time": "2024-07-31T16:52:27.242504600Z"
    }
   },
   "id": "c261238e20bf8a05"
  },
  {
   "cell_type": "code",
   "execution_count": 11,
   "outputs": [],
   "source": [
    "man.bind_vertex_buffer(0, vertex_buffer)\n",
    "man.bind_index_buffer(index_buffer)\n",
    "man.dispatch_indexed_primitives(6)\n",
    "man.freeze()\n",
    "\n",
    "vk.submit(man)"
   ],
   "metadata": {
    "collapsed": false,
    "ExecuteTime": {
     "end_time": "2024-07-31T16:52:27.266859900Z",
     "start_time": "2024-07-31T16:52:27.250848700Z"
    }
   },
   "id": "5a7744548b50246c"
  },
  {
   "cell_type": "code",
   "execution_count": 12,
   "outputs": [
    {
     "data": {
      "text/plain": "<Figure size 800x800 with 1 Axes>",
      "image/png": "[encoded data removed]"
     },
     "metadata": {},
     "output_type": "display_data"
    }
   ],
   "source": [
    "staging = vk.tensor(render_target.height, render_target.width, 4)\n",
    "render_target.save(staging)\n",
    "import matplotlib.pyplot as plt\n",
    "# visualize the tensor with matplotlib\n",
    "plt.figure(figsize=(4,4), dpi=200)\n",
    "plt.imshow(staging.cpu())\n",
    "plt.gca().axis('off')\n",
    "plt.tight_layout(pad=0.0)\n",
    "plt.savefig('teaser4.jpg')\n",
    "plt.show()"
   ],
   "metadata": {
    "collapsed": false,
    "ExecuteTime": {
     "end_time": "2024-07-31T16:52:29.843084600Z",
     "start_time": "2024-07-31T16:52:27.265863200Z"
    }
   },
   "id": "36e2c7cfd506281e"
  }
 ],
 "metadata": {
  "kernelspec": {
   "display_name": "Python 3",
   "language": "python",
   "name": "python3"
  },
  "language_info": {
   "codemirror_mode": {
    "name": "ipython",
    "version": 2
   },
   "file_extension": ".py",
   "mimetype": "text/x-python",
   "name": "python",
   "nbconvert_exporter": "python",
   "pygments_lexer": "ipython2",
   "version": "2.7.6"
  }
 },
 "nbformat": 4,
 "nbformat_minor": 5
}
