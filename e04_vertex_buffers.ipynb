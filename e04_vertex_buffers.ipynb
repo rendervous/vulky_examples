{
 "cells": [
  {
   "cell_type": "markdown",
   "source": [
    "# Vertex Buffers\n",
    "\n",
    "__vertex declaration, vertex bindings, index buffer__\n",
    "\n",
    "In this example we show how to create vertex buffers, load the data, declare in a pipeline the vertex locations, the vertex bindings (if it is statically set in the pipeline) and how to bind vertex buffers and index buffers in the command manager before drawing.\n",
    "\n",
    "Similar to previous example:"
   ],
   "metadata": {
    "collapsed": false
   },
   "id": "ab8764d9f09a84c2"
  },
  {
   "cell_type": "code",
   "execution_count": null,
   "outputs": [],
   "source": [
    "import vulky as vk\n",
    "import torch\n",
    "vk.create_device(debug=True)\n",
    "SCREEN_WIDTH = 512\n",
    "SCREEN_HEIGHT = 512\n",
    "render_target = vk.render_target(\n",
    "    image_format=vk.Format.VEC4,\n",
    "    width=SCREEN_WIDTH,\n",
    "    height=SCREEN_HEIGHT\n",
    ")\n",
    "depth_buffer = vk.depth_stencil(\n",
    "    width=SCREEN_WIDTH,\n",
    "    height=SCREEN_HEIGHT\n",
    ")"
   ],
   "metadata": {
    "collapsed": false
   },
   "id": "54f7724b4f11c1f"
  },
  {
   "cell_type": "code",
   "execution_count": null,
   "outputs": [],
   "source": [
    "vertex_buffer = vk.vertex_buffer(4, element_description=dict(\n",
    "    P=vk.vec3,\n",
    "    C=vk.vec2\n",
    "))"
   ],
   "metadata": {
    "collapsed": false
   },
   "id": "1a28ebe8bedac906"
  },
  {
   "cell_type": "code",
   "execution_count": null,
   "outputs": [],
   "source": [
    "with vertex_buffer.map(mode='in') as vb:\n",
    "    vb.P = [\n",
    "        [-.9, -.9, 0.5],\n",
    "        [.9, -.9, 0.5],\n",
    "        [.9, .9, 0.5],\n",
    "        [-.9, .9, 0.5]\n",
    "    ]\n",
    "    vb.C = [\n",
    "        [0.0, 0.0],\n",
    "        [1.0, 0.0],\n",
    "        [1.0, 1.0],\n",
    "        [0.0, 1.0]\n",
    "    ]"
   ],
   "metadata": {
    "collapsed": false
   },
   "id": "c1297384a038bb49"
  },
  {
   "cell_type": "code",
   "execution_count": null,
   "outputs": [],
   "source": [
    "index_buffer = vk.index_buffer(6)\n",
    "index_buffer.load([0, 1, 2, 0, 2, 3])"
   ],
   "metadata": {
    "collapsed": false
   },
   "id": "798416e7d8b356e3"
  },
  {
   "cell_type": "code",
   "execution_count": null,
   "outputs": [],
   "source": [
    "vertex_shader_code = \"\"\"\n",
    "#version 450\n",
    "#extension GL_EXT_scalar_block_layout: enable\n",
    "\n",
    "layout(location = 0) in vec3 in_position;\n",
    "layout(location = 1) in vec2 in_coordinates;\n",
    "layout(location = 0) out vec2 out_coordinates;\n",
    "\n",
    "void main()\n",
    "{\n",
    "    gl_Position = vec4(in_position, 1.0);\n",
    "    out_coordinates = in_coordinates;\n",
    "}\n",
    "\"\"\"\n",
    "fragment_shader_code = \"\"\"\n",
    "#version 450\n",
    "layout(location = 0) in vec2 in_coordinates;\n",
    "layout(location = 0) out vec4 out_color;\n",
    "void main() {\n",
    "    out_color = vec4(in_coordinates.x, in_coordinates.y, 1.0, 1.0);\n",
    "}\n",
    "\"\"\""
   ],
   "metadata": {
    "collapsed": false
   },
   "id": "98eecb2e2aae2323"
  },
  {
   "cell_type": "code",
   "execution_count": null,
   "outputs": [],
   "source": [
    "pipeline = vk.pipeline_graphics()\n",
    "pipeline.attach(slot=0, render_target=vk.Format.VEC4)\n",
    "pipeline.attach(slot=1, depth_buffer=vk.Format.DEPTH_STENCIL)"
   ],
   "metadata": {
    "collapsed": false
   },
   "id": "b658d8622ee4ee54"
  },
  {
   "cell_type": "code",
   "execution_count": null,
   "outputs": [],
   "source": [
    "pipeline.vertex(location=0, in_position=vk.Format.VEC3)\n",
    "pipeline.vertex(location=1, in_coordinates=vk.Format.VEC2)\n",
    "pipeline.vertex_binding(\n",
    "    binding=0,\n",
    "    stride=(3+2)*4,\n",
    "    in_position=0,\n",
    "    in_coordinates=3*4,\n",
    ")"
   ],
   "metadata": {
    "collapsed": false
   },
   "id": "7b8990be969413b9"
  },
  {
   "cell_type": "code",
   "execution_count": null,
   "outputs": [],
   "source": [
    "with pipeline.shader_stages(vk.ShaderStage.VERTEX):\n",
    "    pipeline.load_shader_from_source(vertex_shader_code)\n",
    "with pipeline.shader_stages(vk.ShaderStage.FRAGMENT):\n",
    "    pipeline.load_shader_from_source(fragment_shader_code)\n",
    "pipeline.close()  # This creates the internal pipeline object and bindings"
   ],
   "metadata": {
    "collapsed": false
   },
   "id": "74c212e04427c7fe"
  },
  {
   "cell_type": "code",
   "execution_count": null,
   "outputs": [],
   "source": [
    "framebuffer = pipeline.create_framebuffer(\n",
    "    width=SCREEN_WIDTH,\n",
    "    height=SCREEN_HEIGHT,\n",
    "    render_target=render_target,\n",
    "    depth_buffer=depth_buffer\n",
    ")"
   ],
   "metadata": {
    "collapsed": false
   },
   "id": "e03ca22629a63136"
  },
  {
   "cell_type": "code",
   "execution_count": null,
   "outputs": [],
   "source": [
    "man = vk.graphics_manager()\n",
    "man.use(render_target, vk.ImageUsage.RENDER_TARGET)\n",
    "man.image_barrier(render_target, vk.ImageUsage.ANY)\n",
    "man.clear_color(render_target, (0.0, 0.0, 0.5, 1.0))\n",
    "man.clear_depth_stencil(depth_buffer, 1.0, 0)\n",
    "man.image_barrier(render_target, vk.ImageUsage.RENDER_TARGET)\n",
    "man.set_pipeline(pipeline)\n",
    "man.set_framebuffer(framebuffer)"
   ],
   "metadata": {
    "collapsed": false
   },
   "id": "c261238e20bf8a05"
  },
  {
   "cell_type": "code",
   "execution_count": null,
   "outputs": [],
   "source": [
    "man.bind_vertex_buffer(0, vertex_buffer)\n",
    "man.bind_index_buffer(index_buffer)\n",
    "man.dispatch_indexed_primitives(6)\n",
    "man.freeze()\n",
    "\n",
    "vk.submit(man)"
   ],
   "metadata": {
    "collapsed": false
   },
   "id": "5a7744548b50246c"
  },
  {
   "cell_type": "code",
   "execution_count": null,
   "outputs": [],
   "source": [
    "staging = vk.tensor(render_target.height, render_target.width, 4)\n",
    "with vk.graphics_manager() as man:\n",
    "    man.use(render_target, vk.ImageUsage.RENDER_TARGET)\n",
    "    man.image_barrier(render_target, vk.ImageUsage.ANY)\n",
    "render_target.save(staging)\n",
    "import matplotlib.pyplot as plt\n",
    "# visualize the tensor with matplotlib\n",
    "plt.imshow(staging.cpu())\n",
    "plt.gca().axis('off')\n",
    "plt.tight_layout(pad=0.0)\n",
    "plt.savefig('teaser4.jpg')\n",
    "plt.show()\n",
    "del staging\n",
    "vk.quit()"
   ],
   "metadata": {
    "collapsed": false
   },
   "id": "36e2c7cfd506281e"
  }
 ],
 "metadata": {
  "kernelspec": {
   "display_name": "Python 3",
   "language": "python",
   "name": "python3"
  },
  "language_info": {
   "codemirror_mode": {
    "name": "ipython",
    "version": 2
   },
   "file_extension": ".py",
   "mimetype": "text/x-python",
   "name": "python",
   "nbconvert_exporter": "python",
   "pygments_lexer": "ipython2",
   "version": "2.7.6"
  }
 },
 "nbformat": 4,
 "nbformat_minor": 5
}
