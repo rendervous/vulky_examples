{
 "cells": [
  {
   "cell_type": "markdown",
   "source": [
    "# Basic Pathtracer\n",
    "\n",
    "__simple pathtracer, objects__"
   ],
   "metadata": {
    "collapsed": false
   },
   "id": "bc10de9e014e1cdf"
  },
  {
   "cell_type": "code",
   "execution_count": null,
   "outputs": [],
   "source": [
    "import torch\n",
    "\n",
    "import vulky as vk\n",
    "\n",
    "vk.create_device(debug=True)\n",
    "\n",
    "SCREEN_WIDTH = 2048\n",
    "SCREEN_HEIGHT = 2048\n",
    "NUMBER_OF_INSTANCES = 3\n",
    "\n",
    "render_target = vk.image_2D(\n",
    "    image_format=vk.Format.VEC4,\n",
    "    width=SCREEN_WIDTH,\n",
    "    height=SCREEN_HEIGHT,\n",
    "    mips=1,  # Important to make the image single resource\n",
    "    usage=vk.ImageUsage.STORAGE,\n",
    "    memory=vk.MemoryLocation.GPU\n",
    ")\n",
    "\n",
    "data = vk.load_obj('./data/bunny.obj')\n",
    "vertices_data, indices_data = vk.create_mesh(data, mode='po')\n",
    "\n",
    "triangles_vb = vk.structured_buffer(\n",
    "    count=len(vertices_data), \n",
    "    element_description=dict(\n",
    "        P=vk.vec3,\n",
    "        N=vk.vec3,\n",
    "        C=vk.vec2\n",
    "    ),\n",
    "    usage=vk.BufferUsage.RAYTRACING_RESOURCE    \n",
    ").load(vertices_data)\n",
    "triangles_ib = vk.structured_buffer(\n",
    "    count=indices_data.numel(),\n",
    "    element_description=int,\n",
    "    usage=vk.BufferUsage.RAYTRACING_RESOURCE\n",
    ").load(indices_data)\n",
    "\n",
    "triangles = vk.triangle_collection()\n",
    "triangles.append(triangles_vb, triangles_ib)\n",
    "geometry_ads = vk.ads_model(triangles)\n",
    "\n",
    "instances = vk.instance_buffer(NUMBER_OF_INSTANCES)\n"
   ],
   "metadata": {
    "collapsed": false
   },
   "id": "6a31d6fbb6f61b6e"
  },
  {
   "cell_type": "code",
   "execution_count": null,
   "outputs": [],
   "source": [
    "offsets_x = torch.arange(-1.0, 1.0001, 2/(NUMBER_OF_INSTANCES - 1))\n",
    "offsets = vk.vec3.zero(NUMBER_OF_INSTANCES) # [[0,0,0],...[0,0,0]]\n",
    "offsets.x = offsets_x\n",
    "with instances.map(mode='inout') as m:\n",
    "    m.transform = vk.mat4x3.trs(offset=offsets, angle=-3.14159/3, scale=vk.vec3(0.7, 0.7, 0.7)).transposed()\n",
    "    # All bottom-level ads are the same...\n",
    "    m.accelerationStructureReference = geometry_ads.handle\n"
   ],
   "metadata": {
    "collapsed": false
   },
   "id": "f9769e76bf13006d"
  },
  {
   "cell_type": "code",
   "execution_count": null,
   "outputs": [],
   "source": [
    "scene_ads = vk.ads_scene(instances)    \n",
    "\n",
    "scratch_buffer = vk.scratch_buffer(geometry_ads, scene_ads)\n",
    "    \n",
    "with vk.raytracing_manager() as man:\n",
    "    man.build_ads(geometry_ads, scratch_buffer)\n",
    "    man.build_ads(scene_ads, scratch_buffer)\n",
    "    \n",
    "global_transform = vk.object_buffer(\n",
    "    vk.Layout.from_structure(\n",
    "        vk.LayoutAlignment.SCALAR,\n",
    "        Proj=vk.mat4,\n",
    "        View=vk.mat4\n",
    "    ),\n",
    "    memory=vk.MemoryLocation.GPU\n",
    ")\n",
    "\n",
    "with global_transform as b:\n",
    "    b.Proj = vk.mat4.perspective()\n",
    "    b.View = vk.mat4.look_at(vk.vec3(0., 1., 4.), vk.vec3(0., 0.5, 0.), vk.vec3(0.,1., 0.))"
   ],
   "metadata": {
    "collapsed": false
   },
   "id": "a2ff7aa7a96f07b5"
  },
  {
   "cell_type": "code",
   "execution_count": null,
   "outputs": [],
   "source": [
    "ray_generation_shader_code = \"\"\"\n",
    "#version 460\n",
    "#extension GL_EXT_ray_tracing : require\n",
    "\n",
    "layout(set = 0, binding = 0) uniform accelerationStructureEXT Scene;\n",
    "layout(set = 0, binding = 1) uniform Globals {\n",
    "    mat4 proj;\n",
    "    mat4 view;\n",
    "} globals;\n",
    "layout(set = 0, binding = 2, rgba32f) uniform image2D ResultImage;\n",
    "\n",
    "layout(location = 0) rayPayloadEXT vec4 ResultColor;\n",
    "\n",
    "void main() {\n",
    "    vec2 uv = (gl_LaunchIDEXT.xy + vec2(0.5)) / vec2(gl_LaunchSizeEXT.xy);\n",
    "    vec4 P = vec4(uv.x * 2 - 1.0, uv.y * 2 - 1.0, 0.0, 1.0);\n",
    "    vec4 T = vec4(uv.x * 2 - 1.0, uv.y * 2 - 1.0, 1.0, 1.0);\n",
    "    mat4 inv_transform = inverse(globals.proj * globals.view); \n",
    "    P = inv_transform * P;\n",
    "    T = inv_transform * T;\n",
    "    vec3 o = P.xyz / P.w;\n",
    "    vec3 d = normalize(T.xyz/T.w - o);\n",
    "    traceRayEXT(Scene, gl_RayFlagsNoneEXT, 0xFF, 0, 1, 0, o, 0.001, d, 1000.0f, 0);\n",
    "    imageStore(ResultImage, ivec2(gl_LaunchIDEXT.xy), ResultColor);\n",
    "}  \n",
    "\"\"\"\n",
    "closest_hit_shader_code = \"\"\"\n",
    "#version 460\n",
    "#extension GL_EXT_ray_tracing : require\n",
    "#extension GL_EXT_scalar_block_layout : require\n",
    "\n",
    "layout(location = 0) rayPayloadInEXT vec4 ResultColor;\n",
    "hitAttributeEXT vec2 HitAttribs;\n",
    "\n",
    "struct Vertex {\n",
    "    vec3 P;\n",
    "    vec3 N;\n",
    "    vec2 C;\n",
    "};\n",
    "\n",
    "layout(scalar, set=0, binding = 3) readonly buffer Vertices {\n",
    "    Vertex data[];\n",
    "} vertices;\n",
    "\n",
    "layout(scalar, set=0, binding = 4) readonly buffer Indices {\n",
    "    int data[];\n",
    "} indices;\n",
    "\n",
    "void main() {\n",
    "    int triangleIndex = gl_PrimitiveID;\n",
    "    Vertex v0 = vertices.data[indices.data[triangleIndex*3 + 0]];\n",
    "    Vertex v1 = vertices.data[indices.data[triangleIndex*3 + 1]];\n",
    "    Vertex v2 = vertices.data[indices.data[triangleIndex*3 + 2]];\n",
    "    vec3 coord = vec3(1 - HitAttribs.x - HitAttribs.y, HitAttribs.x, HitAttribs.y);\n",
    "    vec3 N =  normalize(v0.N * coord.x + v1.N * coord.y + v2.N * coord.z);\n",
    "    //ResultColor = vec4(N.x, N.y, N.z, 1);\n",
    "    vec3 light = vec3(3,3,0.3)/3.14159*max(0.1, dot(N, normalize(vec3(2,1,5))));\n",
    "    ResultColor = vec4(light.x, light.y, light.z, 1);\n",
    "}\n",
    "\"\"\"\n",
    "miss_shader_code = \"\"\"\n",
    "#version 460\n",
    "#extension GL_EXT_ray_tracing : require\n",
    "\n",
    "layout(location = 0) rayPayloadInEXT vec4 ResultColor;\n",
    "\n",
    "void main() {\n",
    "    ResultColor = vec4(0.1, 0.1, 0.7, 1.0);\n",
    "}  \n",
    "\"\"\""
   ],
   "metadata": {
    "collapsed": false
   },
   "id": "3ea76cf48b876540"
  },
  {
   "cell_type": "code",
   "execution_count": null,
   "outputs": [],
   "source": [
    "pipeline = vk.pipeline_raytracing()\n",
    "pipeline.layout(set=0, binding=0, scene=vk.DescriptorType.SCENE_ADS)\n",
    "pipeline.layout(set=0, binding=1, global_transform=vk.DescriptorType.UNIFORM_BUFFER)\n",
    "pipeline.layout(set=0, binding=2, output_image=vk.DescriptorType.STORAGE_IMAGE)\n",
    "pipeline.layout(set=0, binding=3, vertices=vk.DescriptorType.STORAGE_BUFFER)\n",
    "pipeline.layout(set=0, binding=4, indices=vk.DescriptorType.STORAGE_BUFFER)\n",
    "with pipeline.shader_stages(vk.ShaderStage.RT_GENERATION):\n",
    "    gen_shader = pipeline.load_shader_from_source(ray_generation_shader_code)\n",
    "with pipeline.shader_stages(vk.ShaderStage.RT_MISS):\n",
    "    miss_shader = pipeline.load_shader_from_source(miss_shader_code)\n",
    "with pipeline.shader_stages(vk.ShaderStage.RT_CLOSEST_HIT):\n",
    "    closest_hit_shader = pipeline.load_shader_from_source(closest_hit_shader_code)\n",
    "gen_group = pipeline.create_rt_gen_group(gen_shader)\n",
    "hit_group = pipeline.create_rt_hit_group(closest_hit=closest_hit_shader)\n",
    "miss_group = pipeline.create_rt_miss_group(miss_shader)\n",
    "pipeline.close()"
   ],
   "metadata": {
    "collapsed": false
   },
   "id": "695fc0f626a01cc9"
  },
  {
   "cell_type": "code",
   "execution_count": null,
   "outputs": [],
   "source": [
    "rt_program = pipeline.create_rt_program(1, 1, NUMBER_OF_INSTANCES, 0)\n",
    "with rt_program:\n",
    "    rt_program.set_generation(0, gen_group)\n",
    "    for i in range(NUMBER_OF_INSTANCES):\n",
    "        rt_program.set_hit_group(i, hit_group)\n",
    "    rt_program.set_miss(0, miss_group)"
   ],
   "metadata": {
    "collapsed": false
   },
   "id": "110025ca911ca8ea"
  },
  {
   "cell_type": "code",
   "execution_count": null,
   "outputs": [],
   "source": [
    "global_bindings = pipeline.create_descriptor_set_collection(set=0, count=1)\n",
    "global_bindings[0].update(\n",
    "    scene = scene_ads,\n",
    "    global_transform = global_transform,\n",
    "    output_image = render_target,\n",
    "    vertices = triangles_vb,\n",
    "    indices = triangles_ib\n",
    ")"
   ],
   "metadata": {
    "collapsed": false
   },
   "id": "86966496fa4a4b9e"
  },
  {
   "cell_type": "code",
   "execution_count": null,
   "outputs": [],
   "source": [
    "with vk.raytracing_manager() as man:\n",
    "    man.set_pipeline(pipeline)\n",
    "    man.bind(global_bindings[0])\n",
    "    man.dispatch_rays(rt_program, SCREEN_WIDTH, SCREEN_HEIGHT)"
   ],
   "metadata": {
    "collapsed": false
   },
   "id": "51bd80ec1a590072"
  },
  {
   "cell_type": "code",
   "execution_count": null,
   "outputs": [],
   "source": [
    "staging = vk.tensor(render_target.height, render_target.width, 4)\n",
    "render_target.save(staging)\n",
    "import matplotlib.pyplot as plt\n",
    "plt.imshow(staging.cpu() ** (1.0/2.2))\n",
    "plt.gca().axis('off')\n",
    "plt.gca().invert_yaxis()\n",
    "plt.tight_layout(pad=0.0)\n",
    "plt.show()"
   ],
   "metadata": {
    "collapsed": false
   },
   "id": "cefe782c6968cebf"
  }
 ],
 "metadata": {
  "kernelspec": {
   "display_name": "Python 3",
   "language": "python",
   "name": "python3"
  },
  "language_info": {
   "codemirror_mode": {
    "name": "ipython",
    "version": 2
   },
   "file_extension": ".py",
   "mimetype": "text/x-python",
   "name": "python",
   "nbconvert_exporter": "python",
   "pygments_lexer": "ipython2",
   "version": "2.7.6"
  }
 },
 "nbformat": 4,
 "nbformat_minor": 5
}
